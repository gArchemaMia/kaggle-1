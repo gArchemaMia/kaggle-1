{
  "nbformat": 4,
  "nbformat_minor": 0,
  "metadata": {
    "colab": {
      "name": "titanic.ipynb",
      "provenance": [],
      "collapsed_sections": []
    },
    "kernelspec": {
      "name": "python3",
      "display_name": "Python 3"
    },
    "language_info": {
      "name": "python"
    },
    "accelerator": "GPU"
  },
  "cells": [
    {
      "cell_type": "code",
      "metadata": {
        "colab": {
          "base_uri": "https://localhost:8080/"
        },
        "id": "oBvDMU4hVSJo",
        "outputId": "b988db6c-19ac-4600-b5d7-bc5277046e47"
      },
      "source": [
        "from google.colab import drive\n",
        "drive.mount('/content/drive')"
      ],
      "execution_count": 17,
      "outputs": [
        {
          "output_type": "stream",
          "text": [
            "Drive already mounted at /content/drive; to attempt to forcibly remount, call drive.mount(\"/content/drive\", force_remount=True).\n"
          ],
          "name": "stdout"
        }
      ]
    },
    {
      "cell_type": "markdown",
      "metadata": {
        "id": "cMTSw3v7Vf8s"
      },
      "source": [
        "#####import"
      ]
    },
    {
      "cell_type": "code",
      "metadata": {
        "id": "iVs-gzbzVmPz",
        "colab": {
          "base_uri": "https://localhost:8080/"
        },
        "outputId": "ed089e2d-5390-4ade-b9d3-533ba181fccd"
      },
      "source": [
        "import numpy as np \n",
        "import pandas as pd\n",
        "from tensorflow import keras\n",
        "from tensorflow.keras.layers import Dense,Dropout\n",
        "from tensorflow.keras.models import Sequential\n",
        "from imblearn.over_sampling import SMOTE\n",
        "\n",
        "from sklearn.model_selection import train_test_split"
      ],
      "execution_count": 50,
      "outputs": [
        {
          "output_type": "stream",
          "text": [
            "/usr/local/lib/python3.7/dist-packages/sklearn/externals/six.py:31: FutureWarning: The module is deprecated in version 0.21 and will be removed in version 0.23 since we've dropped support for Python 2.7. Please rely on the official version of six (https://pypi.org/project/six/).\n",
            "  \"(https://pypi.org/project/six/).\", FutureWarning)\n",
            "/usr/local/lib/python3.7/dist-packages/sklearn/utils/deprecation.py:144: FutureWarning: The sklearn.neighbors.base module is  deprecated in version 0.22 and will be removed in version 0.24. The corresponding classes / functions should instead be imported from sklearn.neighbors. Anything that cannot be imported from sklearn.neighbors is now part of the private API.\n",
            "  warnings.warn(message, FutureWarning)\n"
          ],
          "name": "stderr"
        }
      ]
    },
    {
      "cell_type": "code",
      "metadata": {
        "id": "q_DqUfiEVm0B"
      },
      "source": [
        "TRAIN_DATA_PATH = '/content/drive/MyDrive/kaggle/titanic/train.csv'\n",
        "TEST_DATA_PATH = '/content/drive/MyDrive/kaggle/titanic/test.csv'"
      ],
      "execution_count": 11,
      "outputs": []
    },
    {
      "cell_type": "code",
      "metadata": {
        "id": "jCIQvNx7VmkS",
        "colab": {
          "base_uri": "https://localhost:8080/",
          "height": 204
        },
        "outputId": "c3f07f62-d478-4aca-cea6-d72b7320a782"
      },
      "source": [
        "train_data = pd.read_csv(TRAIN_DATA_PATH)\n",
        "train_data.head()"
      ],
      "execution_count": 67,
      "outputs": [
        {
          "output_type": "execute_result",
          "data": {
            "text/html": [
              "<div>\n",
              "<style scoped>\n",
              "    .dataframe tbody tr th:only-of-type {\n",
              "        vertical-align: middle;\n",
              "    }\n",
              "\n",
              "    .dataframe tbody tr th {\n",
              "        vertical-align: top;\n",
              "    }\n",
              "\n",
              "    .dataframe thead th {\n",
              "        text-align: right;\n",
              "    }\n",
              "</style>\n",
              "<table border=\"1\" class=\"dataframe\">\n",
              "  <thead>\n",
              "    <tr style=\"text-align: right;\">\n",
              "      <th></th>\n",
              "      <th>PassengerId</th>\n",
              "      <th>Survived</th>\n",
              "      <th>Pclass</th>\n",
              "      <th>Name</th>\n",
              "      <th>Sex</th>\n",
              "      <th>Age</th>\n",
              "      <th>SibSp</th>\n",
              "      <th>Parch</th>\n",
              "      <th>Ticket</th>\n",
              "      <th>Fare</th>\n",
              "      <th>Cabin</th>\n",
              "      <th>Embarked</th>\n",
              "    </tr>\n",
              "  </thead>\n",
              "  <tbody>\n",
              "    <tr>\n",
              "      <th>0</th>\n",
              "      <td>1</td>\n",
              "      <td>0</td>\n",
              "      <td>3</td>\n",
              "      <td>Braund, Mr. Owen Harris</td>\n",
              "      <td>male</td>\n",
              "      <td>22.0</td>\n",
              "      <td>1</td>\n",
              "      <td>0</td>\n",
              "      <td>A/5 21171</td>\n",
              "      <td>7.2500</td>\n",
              "      <td>NaN</td>\n",
              "      <td>S</td>\n",
              "    </tr>\n",
              "    <tr>\n",
              "      <th>1</th>\n",
              "      <td>2</td>\n",
              "      <td>1</td>\n",
              "      <td>1</td>\n",
              "      <td>Cumings, Mrs. John Bradley (Florence Briggs Th...</td>\n",
              "      <td>female</td>\n",
              "      <td>38.0</td>\n",
              "      <td>1</td>\n",
              "      <td>0</td>\n",
              "      <td>PC 17599</td>\n",
              "      <td>71.2833</td>\n",
              "      <td>C85</td>\n",
              "      <td>C</td>\n",
              "    </tr>\n",
              "    <tr>\n",
              "      <th>2</th>\n",
              "      <td>3</td>\n",
              "      <td>1</td>\n",
              "      <td>3</td>\n",
              "      <td>Heikkinen, Miss. Laina</td>\n",
              "      <td>female</td>\n",
              "      <td>26.0</td>\n",
              "      <td>0</td>\n",
              "      <td>0</td>\n",
              "      <td>STON/O2. 3101282</td>\n",
              "      <td>7.9250</td>\n",
              "      <td>NaN</td>\n",
              "      <td>S</td>\n",
              "    </tr>\n",
              "    <tr>\n",
              "      <th>3</th>\n",
              "      <td>4</td>\n",
              "      <td>1</td>\n",
              "      <td>1</td>\n",
              "      <td>Futrelle, Mrs. Jacques Heath (Lily May Peel)</td>\n",
              "      <td>female</td>\n",
              "      <td>35.0</td>\n",
              "      <td>1</td>\n",
              "      <td>0</td>\n",
              "      <td>113803</td>\n",
              "      <td>53.1000</td>\n",
              "      <td>C123</td>\n",
              "      <td>S</td>\n",
              "    </tr>\n",
              "    <tr>\n",
              "      <th>4</th>\n",
              "      <td>5</td>\n",
              "      <td>0</td>\n",
              "      <td>3</td>\n",
              "      <td>Allen, Mr. William Henry</td>\n",
              "      <td>male</td>\n",
              "      <td>35.0</td>\n",
              "      <td>0</td>\n",
              "      <td>0</td>\n",
              "      <td>373450</td>\n",
              "      <td>8.0500</td>\n",
              "      <td>NaN</td>\n",
              "      <td>S</td>\n",
              "    </tr>\n",
              "  </tbody>\n",
              "</table>\n",
              "</div>"
            ],
            "text/plain": [
              "   PassengerId  Survived  Pclass  ...     Fare Cabin  Embarked\n",
              "0            1         0       3  ...   7.2500   NaN         S\n",
              "1            2         1       1  ...  71.2833   C85         C\n",
              "2            3         1       3  ...   7.9250   NaN         S\n",
              "3            4         1       1  ...  53.1000  C123         S\n",
              "4            5         0       3  ...   8.0500   NaN         S\n",
              "\n",
              "[5 rows x 12 columns]"
            ]
          },
          "metadata": {
            "tags": []
          },
          "execution_count": 67
        }
      ]
    },
    {
      "cell_type": "code",
      "metadata": {
        "colab": {
          "base_uri": "https://localhost:8080/"
        },
        "id": "dKEt2cM7ptIB",
        "outputId": "7a0a2c15-b198-49e8-a68d-9b37fcb40572"
      },
      "source": [
        "train_data.info()"
      ],
      "execution_count": 13,
      "outputs": [
        {
          "output_type": "stream",
          "text": [
            "<class 'pandas.core.frame.DataFrame'>\n",
            "RangeIndex: 891 entries, 0 to 890\n",
            "Data columns (total 12 columns):\n",
            " #   Column       Non-Null Count  Dtype  \n",
            "---  ------       --------------  -----  \n",
            " 0   PassengerId  891 non-null    int64  \n",
            " 1   Survived     891 non-null    int64  \n",
            " 2   Pclass       891 non-null    int64  \n",
            " 3   Name         891 non-null    object \n",
            " 4   Sex          891 non-null    object \n",
            " 5   Age          714 non-null    float64\n",
            " 6   SibSp        891 non-null    int64  \n",
            " 7   Parch        891 non-null    int64  \n",
            " 8   Ticket       891 non-null    object \n",
            " 9   Fare         891 non-null    float64\n",
            " 10  Cabin        204 non-null    object \n",
            " 11  Embarked     889 non-null    object \n",
            "dtypes: float64(2), int64(5), object(5)\n",
            "memory usage: 83.7+ KB\n"
          ],
          "name": "stdout"
        }
      ]
    },
    {
      "cell_type": "code",
      "metadata": {
        "colab": {
          "base_uri": "https://localhost:8080/",
          "height": 204
        },
        "id": "lsYOrJxmW8DQ",
        "outputId": "4a2dad3a-ac13-4ddd-95af-c7008eaf627b"
      },
      "source": [
        "test_data = pd.read_csv(TEST_DATA_PATH)\n",
        "test_data.head()"
      ],
      "execution_count": 68,
      "outputs": [
        {
          "output_type": "execute_result",
          "data": {
            "text/html": [
              "<div>\n",
              "<style scoped>\n",
              "    .dataframe tbody tr th:only-of-type {\n",
              "        vertical-align: middle;\n",
              "    }\n",
              "\n",
              "    .dataframe tbody tr th {\n",
              "        vertical-align: top;\n",
              "    }\n",
              "\n",
              "    .dataframe thead th {\n",
              "        text-align: right;\n",
              "    }\n",
              "</style>\n",
              "<table border=\"1\" class=\"dataframe\">\n",
              "  <thead>\n",
              "    <tr style=\"text-align: right;\">\n",
              "      <th></th>\n",
              "      <th>PassengerId</th>\n",
              "      <th>Pclass</th>\n",
              "      <th>Name</th>\n",
              "      <th>Sex</th>\n",
              "      <th>Age</th>\n",
              "      <th>SibSp</th>\n",
              "      <th>Parch</th>\n",
              "      <th>Ticket</th>\n",
              "      <th>Fare</th>\n",
              "      <th>Cabin</th>\n",
              "      <th>Embarked</th>\n",
              "    </tr>\n",
              "  </thead>\n",
              "  <tbody>\n",
              "    <tr>\n",
              "      <th>0</th>\n",
              "      <td>892</td>\n",
              "      <td>3</td>\n",
              "      <td>Kelly, Mr. James</td>\n",
              "      <td>male</td>\n",
              "      <td>34.5</td>\n",
              "      <td>0</td>\n",
              "      <td>0</td>\n",
              "      <td>330911</td>\n",
              "      <td>7.8292</td>\n",
              "      <td>NaN</td>\n",
              "      <td>Q</td>\n",
              "    </tr>\n",
              "    <tr>\n",
              "      <th>1</th>\n",
              "      <td>893</td>\n",
              "      <td>3</td>\n",
              "      <td>Wilkes, Mrs. James (Ellen Needs)</td>\n",
              "      <td>female</td>\n",
              "      <td>47.0</td>\n",
              "      <td>1</td>\n",
              "      <td>0</td>\n",
              "      <td>363272</td>\n",
              "      <td>7.0000</td>\n",
              "      <td>NaN</td>\n",
              "      <td>S</td>\n",
              "    </tr>\n",
              "    <tr>\n",
              "      <th>2</th>\n",
              "      <td>894</td>\n",
              "      <td>2</td>\n",
              "      <td>Myles, Mr. Thomas Francis</td>\n",
              "      <td>male</td>\n",
              "      <td>62.0</td>\n",
              "      <td>0</td>\n",
              "      <td>0</td>\n",
              "      <td>240276</td>\n",
              "      <td>9.6875</td>\n",
              "      <td>NaN</td>\n",
              "      <td>Q</td>\n",
              "    </tr>\n",
              "    <tr>\n",
              "      <th>3</th>\n",
              "      <td>895</td>\n",
              "      <td>3</td>\n",
              "      <td>Wirz, Mr. Albert</td>\n",
              "      <td>male</td>\n",
              "      <td>27.0</td>\n",
              "      <td>0</td>\n",
              "      <td>0</td>\n",
              "      <td>315154</td>\n",
              "      <td>8.6625</td>\n",
              "      <td>NaN</td>\n",
              "      <td>S</td>\n",
              "    </tr>\n",
              "    <tr>\n",
              "      <th>4</th>\n",
              "      <td>896</td>\n",
              "      <td>3</td>\n",
              "      <td>Hirvonen, Mrs. Alexander (Helga E Lindqvist)</td>\n",
              "      <td>female</td>\n",
              "      <td>22.0</td>\n",
              "      <td>1</td>\n",
              "      <td>1</td>\n",
              "      <td>3101298</td>\n",
              "      <td>12.2875</td>\n",
              "      <td>NaN</td>\n",
              "      <td>S</td>\n",
              "    </tr>\n",
              "  </tbody>\n",
              "</table>\n",
              "</div>"
            ],
            "text/plain": [
              "   PassengerId  Pclass  ... Cabin Embarked\n",
              "0          892       3  ...   NaN        Q\n",
              "1          893       3  ...   NaN        S\n",
              "2          894       2  ...   NaN        Q\n",
              "3          895       3  ...   NaN        S\n",
              "4          896       3  ...   NaN        S\n",
              "\n",
              "[5 rows x 11 columns]"
            ]
          },
          "metadata": {
            "tags": []
          },
          "execution_count": 68
        }
      ]
    },
    {
      "cell_type": "code",
      "metadata": {
        "colab": {
          "base_uri": "https://localhost:8080/"
        },
        "id": "Hef5d6fZp1_f",
        "outputId": "758314d1-5f64-4d61-9e59-f86b6a4747ca"
      },
      "source": [
        "test_data.info()"
      ],
      "execution_count": 15,
      "outputs": [
        {
          "output_type": "stream",
          "text": [
            "<class 'pandas.core.frame.DataFrame'>\n",
            "RangeIndex: 418 entries, 0 to 417\n",
            "Data columns (total 11 columns):\n",
            " #   Column       Non-Null Count  Dtype  \n",
            "---  ------       --------------  -----  \n",
            " 0   PassengerId  418 non-null    int64  \n",
            " 1   Pclass       418 non-null    int64  \n",
            " 2   Name         418 non-null    object \n",
            " 3   Sex          418 non-null    object \n",
            " 4   Age          332 non-null    float64\n",
            " 5   SibSp        418 non-null    int64  \n",
            " 6   Parch        418 non-null    int64  \n",
            " 7   Ticket       418 non-null    object \n",
            " 8   Fare         417 non-null    float64\n",
            " 9   Cabin        91 non-null     object \n",
            " 10  Embarked     418 non-null    object \n",
            "dtypes: float64(2), int64(4), object(5)\n",
            "memory usage: 36.0+ KB\n"
          ],
          "name": "stdout"
        }
      ]
    },
    {
      "cell_type": "markdown",
      "metadata": {
        "id": "Y_Y9fFktw-yi"
      },
      "source": [
        "#####Choose Features"
      ]
    },
    {
      "cell_type": "code",
      "metadata": {
        "id": "b74MWMvuW8Aw",
        "colab": {
          "base_uri": "https://localhost:8080/"
        },
        "outputId": "9530e378-33e5-4333-cf36-0ec3658767c8"
      },
      "source": [
        "features = ['Sex', 'Age', 'SibSp', 'Parch', 'Fare', 'Pclass', 'Embarked']\n",
        "\n",
        "train_data['Age'] = train_data['Age'].replace(np.NaN, train_data['Age'].dropna().mean())\n",
        "test_data['Age']  = test_data['Age'].replace(np.NaN, test_data['Age'].dropna().mean())\n",
        "test_data['Fare']  = test_data['Fare'].replace(np.NaN, test_data['Fare'].dropna().mean())\n",
        "\n",
        "train_data['Embarked'] = train_data['Embarked'].fillna(train_data['Embarked'].dropna().mode()[0])\n",
        "train_data['Embarked'] = train_data['Embarked'].map( {'S': 0, 'C': 1, 'Q': 2} ).astype(int)\n",
        "test_data['Embarked']  = test_data['Embarked'].fillna(test_data['Embarked'].dropna().mode()[0])\n",
        "test_data['Embarked'] = test_data['Embarked'].map( {'S': 0, 'C': 1, 'Q': 2} ).astype(int)\n",
        "\n",
        "train_data['Sex'] = train_data['Sex'].map( {'female': 1, 'male': 0} )\n",
        "test_data['Sex']  = test_data['Sex'].map( {'female': 1, 'male': 0} )\n",
        "\n",
        "\n",
        "train_filtered = train_data[features + ['Survived']]\n",
        "X = pd.get_dummies(train_filtered[features])\n",
        "Y = train_filtered['Survived']\n",
        "X, Y = SMOTE().fit_resample(X, Y)\n",
        "\n",
        "X=np.array(X)\n",
        "Y=keras.utils.to_categorical(np.array(Y))"
      ],
      "execution_count": 69,
      "outputs": [
        {
          "output_type": "stream",
          "text": [
            "/usr/local/lib/python3.7/dist-packages/sklearn/utils/deprecation.py:87: FutureWarning: Function safe_indexing is deprecated; safe_indexing is deprecated in version 0.22 and will be removed in version 0.24.\n",
            "  warnings.warn(msg, category=FutureWarning)\n"
          ],
          "name": "stderr"
        }
      ]
    },
    {
      "cell_type": "code",
      "metadata": {
        "colab": {
          "base_uri": "https://localhost:8080/"
        },
        "id": "9n8H6d6oW7-B",
        "outputId": "f603f736-5238-4658-8bf2-1fc2f2b26bf0"
      },
      "source": [
        "X_train, X_val, Y_train, Y_val = train_test_split(X, Y, test_size=0.3, random_state=42)\n",
        "X_train.shape"
      ],
      "execution_count": 70,
      "outputs": [
        {
          "output_type": "execute_result",
          "data": {
            "text/plain": [
              "(768, 7)"
            ]
          },
          "metadata": {
            "tags": []
          },
          "execution_count": 70
        }
      ]
    },
    {
      "cell_type": "code",
      "metadata": {
        "colab": {
          "base_uri": "https://localhost:8080/"
        },
        "id": "kxonTVw3u8dg",
        "outputId": "47785818-d7d3-4d44-9098-bfbcd38127e2"
      },
      "source": [
        "train_data[features].info()"
      ],
      "execution_count": 71,
      "outputs": [
        {
          "output_type": "stream",
          "text": [
            "<class 'pandas.core.frame.DataFrame'>\n",
            "RangeIndex: 891 entries, 0 to 890\n",
            "Data columns (total 7 columns):\n",
            " #   Column    Non-Null Count  Dtype  \n",
            "---  ------    --------------  -----  \n",
            " 0   Sex       891 non-null    int64  \n",
            " 1   Age       891 non-null    float64\n",
            " 2   SibSp     891 non-null    int64  \n",
            " 3   Parch     891 non-null    int64  \n",
            " 4   Fare      891 non-null    float64\n",
            " 5   Pclass    891 non-null    int64  \n",
            " 6   Embarked  891 non-null    int64  \n",
            "dtypes: float64(2), int64(5)\n",
            "memory usage: 48.9 KB\n"
          ],
          "name": "stdout"
        }
      ]
    },
    {
      "cell_type": "code",
      "metadata": {
        "colab": {
          "base_uri": "https://localhost:8080/"
        },
        "id": "zAI2_lDr0G_B",
        "outputId": "f6e3c8ff-a299-4485-a59c-16f88f00c2fc"
      },
      "source": [
        "test_data[features].info()"
      ],
      "execution_count": 72,
      "outputs": [
        {
          "output_type": "stream",
          "text": [
            "<class 'pandas.core.frame.DataFrame'>\n",
            "RangeIndex: 418 entries, 0 to 417\n",
            "Data columns (total 7 columns):\n",
            " #   Column    Non-Null Count  Dtype  \n",
            "---  ------    --------------  -----  \n",
            " 0   Sex       418 non-null    int64  \n",
            " 1   Age       418 non-null    float64\n",
            " 2   SibSp     418 non-null    int64  \n",
            " 3   Parch     418 non-null    int64  \n",
            " 4   Fare      418 non-null    float64\n",
            " 5   Pclass    418 non-null    int64  \n",
            " 6   Embarked  418 non-null    int64  \n",
            "dtypes: float64(2), int64(5)\n",
            "memory usage: 23.0 KB\n"
          ],
          "name": "stdout"
        }
      ]
    },
    {
      "cell_type": "markdown",
      "metadata": {
        "id": "0X3ciXBWwig7"
      },
      "source": [
        "#####Model"
      ]
    },
    {
      "cell_type": "code",
      "metadata": {
        "id": "96wHUDc9W70Y"
      },
      "source": [
        "model = Sequential()\n",
        "# model.add(Dense(64, activation='relu'))\n",
        "# model.add(Dropout(0.4))\n",
        "model.add(Dense(2, activation='softmax'))"
      ],
      "execution_count": 73,
      "outputs": []
    },
    {
      "cell_type": "code",
      "metadata": {
        "id": "myo4-PhtiQBl"
      },
      "source": [
        "model.compile(loss=keras.losses.binary_crossentropy, optimizer = keras.optimizers.Adam(learning_rate = 0.001), metrics=['accuracy'])"
      ],
      "execution_count": 74,
      "outputs": []
    },
    {
      "cell_type": "code",
      "metadata": {
        "colab": {
          "base_uri": "https://localhost:8080/"
        },
        "id": "_ZL8joBxiP-z",
        "outputId": "c702996a-49e6-4e4c-a934-932bb5b0542a"
      },
      "source": [
        "history=model.fit(X_train,Y_train, batch_size=10, validation_data=(X_val,Y_val),epochs= 50)"
      ],
      "execution_count": 76,
      "outputs": [
        {
          "output_type": "stream",
          "text": [
            "Epoch 1/50\n",
            "77/77 [==============================] - 0s 3ms/step - loss: 0.5094 - accuracy: 0.7826 - val_loss: 0.4914 - val_accuracy: 0.7939\n",
            "Epoch 2/50\n",
            "77/77 [==============================] - 0s 3ms/step - loss: 0.5081 - accuracy: 0.7799 - val_loss: 0.4864 - val_accuracy: 0.8091\n",
            "Epoch 3/50\n",
            "77/77 [==============================] - 0s 3ms/step - loss: 0.5045 - accuracy: 0.7839 - val_loss: 0.4829 - val_accuracy: 0.8061\n",
            "Epoch 4/50\n",
            "77/77 [==============================] - 0s 3ms/step - loss: 0.5039 - accuracy: 0.7773 - val_loss: 0.4819 - val_accuracy: 0.8030\n",
            "Epoch 5/50\n",
            "77/77 [==============================] - 0s 3ms/step - loss: 0.5007 - accuracy: 0.7865 - val_loss: 0.4792 - val_accuracy: 0.8152\n",
            "Epoch 6/50\n",
            "77/77 [==============================] - 0s 3ms/step - loss: 0.5032 - accuracy: 0.7852 - val_loss: 0.4805 - val_accuracy: 0.8000\n",
            "Epoch 7/50\n",
            "77/77 [==============================] - 0s 3ms/step - loss: 0.4989 - accuracy: 0.7839 - val_loss: 0.4782 - val_accuracy: 0.8000\n",
            "Epoch 8/50\n",
            "77/77 [==============================] - 0s 3ms/step - loss: 0.4969 - accuracy: 0.7786 - val_loss: 0.4748 - val_accuracy: 0.8000\n",
            "Epoch 9/50\n",
            "77/77 [==============================] - 0s 3ms/step - loss: 0.4956 - accuracy: 0.7799 - val_loss: 0.4781 - val_accuracy: 0.7970\n",
            "Epoch 10/50\n",
            "77/77 [==============================] - 0s 3ms/step - loss: 0.4947 - accuracy: 0.7852 - val_loss: 0.4712 - val_accuracy: 0.8000\n",
            "Epoch 11/50\n",
            "77/77 [==============================] - 0s 3ms/step - loss: 0.4931 - accuracy: 0.7878 - val_loss: 0.4701 - val_accuracy: 0.8061\n",
            "Epoch 12/50\n",
            "77/77 [==============================] - 0s 3ms/step - loss: 0.4910 - accuracy: 0.7891 - val_loss: 0.4676 - val_accuracy: 0.8121\n",
            "Epoch 13/50\n",
            "77/77 [==============================] - 0s 3ms/step - loss: 0.4904 - accuracy: 0.7878 - val_loss: 0.4661 - val_accuracy: 0.8091\n",
            "Epoch 14/50\n",
            "77/77 [==============================] - 0s 3ms/step - loss: 0.4895 - accuracy: 0.7852 - val_loss: 0.4675 - val_accuracy: 0.8000\n",
            "Epoch 15/50\n",
            "77/77 [==============================] - 0s 3ms/step - loss: 0.4903 - accuracy: 0.7839 - val_loss: 0.4642 - val_accuracy: 0.8091\n",
            "Epoch 16/50\n",
            "77/77 [==============================] - 0s 3ms/step - loss: 0.4870 - accuracy: 0.7812 - val_loss: 0.4632 - val_accuracy: 0.8091\n",
            "Epoch 17/50\n",
            "77/77 [==============================] - 0s 3ms/step - loss: 0.4870 - accuracy: 0.7865 - val_loss: 0.4624 - val_accuracy: 0.8061\n",
            "Epoch 18/50\n",
            "77/77 [==============================] - 0s 3ms/step - loss: 0.4863 - accuracy: 0.7917 - val_loss: 0.4612 - val_accuracy: 0.8061\n",
            "Epoch 19/50\n",
            "77/77 [==============================] - 0s 3ms/step - loss: 0.4877 - accuracy: 0.7799 - val_loss: 0.4623 - val_accuracy: 0.8091\n",
            "Epoch 20/50\n",
            "77/77 [==============================] - 0s 3ms/step - loss: 0.4854 - accuracy: 0.7826 - val_loss: 0.4618 - val_accuracy: 0.8091\n",
            "Epoch 21/50\n",
            "77/77 [==============================] - 0s 3ms/step - loss: 0.4852 - accuracy: 0.7826 - val_loss: 0.4586 - val_accuracy: 0.8061\n",
            "Epoch 22/50\n",
            "77/77 [==============================] - 0s 3ms/step - loss: 0.4838 - accuracy: 0.7852 - val_loss: 0.4586 - val_accuracy: 0.8000\n",
            "Epoch 23/50\n",
            "77/77 [==============================] - 0s 3ms/step - loss: 0.4822 - accuracy: 0.7852 - val_loss: 0.4567 - val_accuracy: 0.8030\n",
            "Epoch 24/50\n",
            "77/77 [==============================] - 0s 3ms/step - loss: 0.4808 - accuracy: 0.7878 - val_loss: 0.4567 - val_accuracy: 0.8000\n",
            "Epoch 25/50\n",
            "77/77 [==============================] - 0s 3ms/step - loss: 0.4810 - accuracy: 0.7878 - val_loss: 0.4556 - val_accuracy: 0.8000\n",
            "Epoch 26/50\n",
            "77/77 [==============================] - 0s 3ms/step - loss: 0.4819 - accuracy: 0.7812 - val_loss: 0.4557 - val_accuracy: 0.8000\n",
            "Epoch 27/50\n",
            "77/77 [==============================] - 0s 3ms/step - loss: 0.4800 - accuracy: 0.7891 - val_loss: 0.4562 - val_accuracy: 0.8061\n",
            "Epoch 28/50\n",
            "77/77 [==============================] - 0s 3ms/step - loss: 0.4790 - accuracy: 0.7904 - val_loss: 0.4534 - val_accuracy: 0.8000\n",
            "Epoch 29/50\n",
            "77/77 [==============================] - 0s 3ms/step - loss: 0.4791 - accuracy: 0.7852 - val_loss: 0.4528 - val_accuracy: 0.8000\n",
            "Epoch 30/50\n",
            "77/77 [==============================] - 0s 3ms/step - loss: 0.4790 - accuracy: 0.7839 - val_loss: 0.4547 - val_accuracy: 0.8091\n",
            "Epoch 31/50\n",
            "77/77 [==============================] - 0s 3ms/step - loss: 0.4797 - accuracy: 0.7812 - val_loss: 0.4539 - val_accuracy: 0.8000\n",
            "Epoch 32/50\n",
            "77/77 [==============================] - 0s 3ms/step - loss: 0.4777 - accuracy: 0.7891 - val_loss: 0.4514 - val_accuracy: 0.8000\n",
            "Epoch 33/50\n",
            "77/77 [==============================] - 0s 3ms/step - loss: 0.4779 - accuracy: 0.7865 - val_loss: 0.4522 - val_accuracy: 0.8030\n",
            "Epoch 34/50\n",
            "77/77 [==============================] - 0s 3ms/step - loss: 0.4763 - accuracy: 0.7904 - val_loss: 0.4507 - val_accuracy: 0.8000\n",
            "Epoch 35/50\n",
            "77/77 [==============================] - 0s 3ms/step - loss: 0.4778 - accuracy: 0.7865 - val_loss: 0.4502 - val_accuracy: 0.8030\n",
            "Epoch 36/50\n",
            "77/77 [==============================] - 0s 3ms/step - loss: 0.4781 - accuracy: 0.7865 - val_loss: 0.4513 - val_accuracy: 0.8030\n",
            "Epoch 37/50\n",
            "77/77 [==============================] - 0s 3ms/step - loss: 0.4772 - accuracy: 0.7839 - val_loss: 0.4516 - val_accuracy: 0.7939\n",
            "Epoch 38/50\n",
            "77/77 [==============================] - 0s 3ms/step - loss: 0.4750 - accuracy: 0.7865 - val_loss: 0.4498 - val_accuracy: 0.7970\n",
            "Epoch 39/50\n",
            "77/77 [==============================] - 0s 3ms/step - loss: 0.4752 - accuracy: 0.7865 - val_loss: 0.4483 - val_accuracy: 0.7970\n",
            "Epoch 40/50\n",
            "77/77 [==============================] - 0s 3ms/step - loss: 0.4772 - accuracy: 0.7865 - val_loss: 0.4483 - val_accuracy: 0.8000\n",
            "Epoch 41/50\n",
            "77/77 [==============================] - 0s 3ms/step - loss: 0.4746 - accuracy: 0.7904 - val_loss: 0.4483 - val_accuracy: 0.8000\n",
            "Epoch 42/50\n",
            "77/77 [==============================] - 0s 3ms/step - loss: 0.4763 - accuracy: 0.7904 - val_loss: 0.4512 - val_accuracy: 0.7939\n",
            "Epoch 43/50\n",
            "77/77 [==============================] - 0s 3ms/step - loss: 0.4752 - accuracy: 0.7865 - val_loss: 0.4546 - val_accuracy: 0.8000\n",
            "Epoch 44/50\n",
            "77/77 [==============================] - 0s 3ms/step - loss: 0.4744 - accuracy: 0.7904 - val_loss: 0.4469 - val_accuracy: 0.7970\n",
            "Epoch 45/50\n",
            "77/77 [==============================] - 0s 3ms/step - loss: 0.4733 - accuracy: 0.7891 - val_loss: 0.4484 - val_accuracy: 0.7970\n",
            "Epoch 46/50\n",
            "77/77 [==============================] - 0s 3ms/step - loss: 0.4761 - accuracy: 0.7891 - val_loss: 0.4482 - val_accuracy: 0.7970\n",
            "Epoch 47/50\n",
            "77/77 [==============================] - 0s 3ms/step - loss: 0.4741 - accuracy: 0.7891 - val_loss: 0.4466 - val_accuracy: 0.8000\n",
            "Epoch 48/50\n",
            "77/77 [==============================] - 0s 3ms/step - loss: 0.4746 - accuracy: 0.7839 - val_loss: 0.4477 - val_accuracy: 0.8091\n",
            "Epoch 49/50\n",
            "77/77 [==============================] - 0s 3ms/step - loss: 0.4756 - accuracy: 0.7917 - val_loss: 0.4474 - val_accuracy: 0.8000\n",
            "Epoch 50/50\n",
            "77/77 [==============================] - 0s 3ms/step - loss: 0.4740 - accuracy: 0.7904 - val_loss: 0.4457 - val_accuracy: 0.7970\n"
          ],
          "name": "stdout"
        }
      ]
    },
    {
      "cell_type": "markdown",
      "metadata": {
        "id": "p5fBT1M4wnu5"
      },
      "source": [
        "#####TUTORIAL_MODEL"
      ]
    },
    {
      "cell_type": "code",
      "metadata": {
        "colab": {
          "base_uri": "https://localhost:8080/"
        },
        "id": "3Donz9PriP1m",
        "outputId": "26dd5e60-7d7d-41be-8102-9d4a9eb636e7"
      },
      "source": [
        "from sklearn.ensemble import RandomForestClassifier\n",
        "tutorial_model = RandomForestClassifier(n_estimators=100, max_depth=10)\n",
        "\n",
        "# for testing acc\n",
        "tutorial_model.fit(X_train, Y_train)\n",
        "# tutorial_model.fit(X, Y)"
      ],
      "execution_count": 77,
      "outputs": [
        {
          "output_type": "execute_result",
          "data": {
            "text/plain": [
              "RandomForestClassifier(bootstrap=True, ccp_alpha=0.0, class_weight=None,\n",
              "                       criterion='gini', max_depth=10, max_features='auto',\n",
              "                       max_leaf_nodes=None, max_samples=None,\n",
              "                       min_impurity_decrease=0.0, min_impurity_split=None,\n",
              "                       min_samples_leaf=1, min_samples_split=2,\n",
              "                       min_weight_fraction_leaf=0.0, n_estimators=100,\n",
              "                       n_jobs=None, oob_score=False, random_state=None,\n",
              "                       verbose=0, warm_start=False)"
            ]
          },
          "metadata": {
            "tags": []
          },
          "execution_count": 77
        }
      ]
    },
    {
      "cell_type": "markdown",
      "metadata": {
        "id": "6n2nLGa8ZVI-"
      },
      "source": [
        "#####Output"
      ]
    },
    {
      "cell_type": "code",
      "metadata": {
        "id": "ElVd3gPQlZkf",
        "colab": {
          "base_uri": "https://localhost:8080/"
        },
        "outputId": "0091d38f-f3b3-42ad-e37e-d58db8e617bc"
      },
      "source": [
        "X_test = pd.get_dummies(test_data[features])\n",
        "# predictions = (model.predict(X_test) > 0.5).astype(\"int32\").T[0]\n",
        "\n",
        "tutorial_predictions = tutorial_model.predict(X_test)\n",
        "\n",
        "# test tutorial model acc\n",
        "# tutorial_predictions = tutorial_model.predict(X_val)\n",
        "# 1-sum(abs(tutorial_predictions - Y_val))/tutorial_predictions.shape[0]\n",
        "'random forest acc:', round(tutorial_model.score(X_val, Y_val) * 100, 2)"
      ],
      "execution_count": 78,
      "outputs": [
        {
          "output_type": "execute_result",
          "data": {
            "text/plain": [
              "('random forest acc:', 86.06)"
            ]
          },
          "metadata": {
            "tags": []
          },
          "execution_count": 78
        }
      ]
    },
    {
      "cell_type": "code",
      "metadata": {
        "id": "8VfrpOPFnRGD"
      },
      "source": [
        "output = pd.DataFrame({'PassengerId': test_data.PassengerId, 'Survived': tutorial_predictions})"
      ],
      "execution_count": 44,
      "outputs": []
    },
    {
      "cell_type": "code",
      "metadata": {
        "id": "nCaLbxKonTWK"
      },
      "source": [
        "OUTPUTH_FILE_PATH = '/content/drive/MyDrive/kaggle/titanic/my_submission.csv'\n",
        "output.to_csv(OUTPUTH_FILE_PATH, index=False)"
      ],
      "execution_count": 45,
      "outputs": []
    },
    {
      "cell_type": "code",
      "metadata": {
        "id": "gna4SwmHEtvD"
      },
      "source": [
        ""
      ],
      "execution_count": 79,
      "outputs": []
    }
  ]
}