{
  "nbformat": 4,
  "nbformat_minor": 0,
  "metadata": {
    "colab": {
      "name": "titanic.ipynb",
      "provenance": [],
      "collapsed_sections": []
    },
    "kernelspec": {
      "name": "python3",
      "display_name": "Python 3"
    },
    "language_info": {
      "name": "python"
    },
    "accelerator": "GPU"
  },
  "cells": [
    {
      "cell_type": "code",
      "metadata": {
        "colab": {
          "base_uri": "https://localhost:8080/"
        },
        "id": "oBvDMU4hVSJo",
        "outputId": "b988db6c-19ac-4600-b5d7-bc5277046e47"
      },
      "source": [
        "from google.colab import drive\n",
        "drive.mount('/content/drive')"
      ],
      "execution_count": 17,
      "outputs": [
        {
          "output_type": "stream",
          "text": [
            "Drive already mounted at /content/drive; to attempt to forcibly remount, call drive.mount(\"/content/drive\", force_remount=True).\n"
          ],
          "name": "stdout"
        }
      ]
    },
    {
      "cell_type": "markdown",
      "metadata": {
        "id": "cMTSw3v7Vf8s"
      },
      "source": [
        "#####import"
      ]
    },
    {
      "cell_type": "code",
      "metadata": {
        "id": "iVs-gzbzVmPz"
      },
      "source": [
        "import numpy as np \n",
        "import pandas as pd\n",
        "from tensorflow import keras\n",
        "from tensorflow.keras.layers import Dense,Dropout\n",
        "from tensorflow.keras.models import Sequential\n",
        "\n",
        "from sklearn.model_selection import train_test_split"
      ],
      "execution_count": 10,
      "outputs": []
    },
    {
      "cell_type": "code",
      "metadata": {
        "id": "q_DqUfiEVm0B"
      },
      "source": [
        "TRAIN_DATA_PATH = '/content/drive/MyDrive/kaggle/titanic/train.csv'\n",
        "TEST_DATA_PATH = '/content/drive/MyDrive/kaggle/titanic/test.csv'"
      ],
      "execution_count": 11,
      "outputs": []
    },
    {
      "cell_type": "code",
      "metadata": {
        "id": "jCIQvNx7VmkS",
        "colab": {
          "base_uri": "https://localhost:8080/",
          "height": 204
        },
        "outputId": "f79e2055-a2cd-4e6d-e67b-7ffc55278bf5"
      },
      "source": [
        "train_data = pd.read_csv(TRAIN_DATA_PATH)\n",
        "train_data.head()"
      ],
      "execution_count": 19,
      "outputs": [
        {
          "output_type": "execute_result",
          "data": {
            "text/html": [
              "<div>\n",
              "<style scoped>\n",
              "    .dataframe tbody tr th:only-of-type {\n",
              "        vertical-align: middle;\n",
              "    }\n",
              "\n",
              "    .dataframe tbody tr th {\n",
              "        vertical-align: top;\n",
              "    }\n",
              "\n",
              "    .dataframe thead th {\n",
              "        text-align: right;\n",
              "    }\n",
              "</style>\n",
              "<table border=\"1\" class=\"dataframe\">\n",
              "  <thead>\n",
              "    <tr style=\"text-align: right;\">\n",
              "      <th></th>\n",
              "      <th>PassengerId</th>\n",
              "      <th>Survived</th>\n",
              "      <th>Pclass</th>\n",
              "      <th>Name</th>\n",
              "      <th>Sex</th>\n",
              "      <th>Age</th>\n",
              "      <th>SibSp</th>\n",
              "      <th>Parch</th>\n",
              "      <th>Ticket</th>\n",
              "      <th>Fare</th>\n",
              "      <th>Cabin</th>\n",
              "      <th>Embarked</th>\n",
              "    </tr>\n",
              "  </thead>\n",
              "  <tbody>\n",
              "    <tr>\n",
              "      <th>0</th>\n",
              "      <td>1</td>\n",
              "      <td>0</td>\n",
              "      <td>3</td>\n",
              "      <td>Braund, Mr. Owen Harris</td>\n",
              "      <td>male</td>\n",
              "      <td>22.0</td>\n",
              "      <td>1</td>\n",
              "      <td>0</td>\n",
              "      <td>A/5 21171</td>\n",
              "      <td>7.2500</td>\n",
              "      <td>NaN</td>\n",
              "      <td>S</td>\n",
              "    </tr>\n",
              "    <tr>\n",
              "      <th>1</th>\n",
              "      <td>2</td>\n",
              "      <td>1</td>\n",
              "      <td>1</td>\n",
              "      <td>Cumings, Mrs. John Bradley (Florence Briggs Th...</td>\n",
              "      <td>female</td>\n",
              "      <td>38.0</td>\n",
              "      <td>1</td>\n",
              "      <td>0</td>\n",
              "      <td>PC 17599</td>\n",
              "      <td>71.2833</td>\n",
              "      <td>C85</td>\n",
              "      <td>C</td>\n",
              "    </tr>\n",
              "    <tr>\n",
              "      <th>2</th>\n",
              "      <td>3</td>\n",
              "      <td>1</td>\n",
              "      <td>3</td>\n",
              "      <td>Heikkinen, Miss. Laina</td>\n",
              "      <td>female</td>\n",
              "      <td>26.0</td>\n",
              "      <td>0</td>\n",
              "      <td>0</td>\n",
              "      <td>STON/O2. 3101282</td>\n",
              "      <td>7.9250</td>\n",
              "      <td>NaN</td>\n",
              "      <td>S</td>\n",
              "    </tr>\n",
              "    <tr>\n",
              "      <th>3</th>\n",
              "      <td>4</td>\n",
              "      <td>1</td>\n",
              "      <td>1</td>\n",
              "      <td>Futrelle, Mrs. Jacques Heath (Lily May Peel)</td>\n",
              "      <td>female</td>\n",
              "      <td>35.0</td>\n",
              "      <td>1</td>\n",
              "      <td>0</td>\n",
              "      <td>113803</td>\n",
              "      <td>53.1000</td>\n",
              "      <td>C123</td>\n",
              "      <td>S</td>\n",
              "    </tr>\n",
              "    <tr>\n",
              "      <th>4</th>\n",
              "      <td>5</td>\n",
              "      <td>0</td>\n",
              "      <td>3</td>\n",
              "      <td>Allen, Mr. William Henry</td>\n",
              "      <td>male</td>\n",
              "      <td>35.0</td>\n",
              "      <td>0</td>\n",
              "      <td>0</td>\n",
              "      <td>373450</td>\n",
              "      <td>8.0500</td>\n",
              "      <td>NaN</td>\n",
              "      <td>S</td>\n",
              "    </tr>\n",
              "  </tbody>\n",
              "</table>\n",
              "</div>"
            ],
            "text/plain": [
              "   PassengerId  Survived  Pclass  ...     Fare Cabin  Embarked\n",
              "0            1         0       3  ...   7.2500   NaN         S\n",
              "1            2         1       1  ...  71.2833   C85         C\n",
              "2            3         1       3  ...   7.9250   NaN         S\n",
              "3            4         1       1  ...  53.1000  C123         S\n",
              "4            5         0       3  ...   8.0500   NaN         S\n",
              "\n",
              "[5 rows x 12 columns]"
            ]
          },
          "metadata": {
            "tags": []
          },
          "execution_count": 19
        }
      ]
    },
    {
      "cell_type": "code",
      "metadata": {
        "colab": {
          "base_uri": "https://localhost:8080/"
        },
        "id": "dKEt2cM7ptIB",
        "outputId": "7a0a2c15-b198-49e8-a68d-9b37fcb40572"
      },
      "source": [
        "train_data.info()"
      ],
      "execution_count": 13,
      "outputs": [
        {
          "output_type": "stream",
          "text": [
            "<class 'pandas.core.frame.DataFrame'>\n",
            "RangeIndex: 891 entries, 0 to 890\n",
            "Data columns (total 12 columns):\n",
            " #   Column       Non-Null Count  Dtype  \n",
            "---  ------       --------------  -----  \n",
            " 0   PassengerId  891 non-null    int64  \n",
            " 1   Survived     891 non-null    int64  \n",
            " 2   Pclass       891 non-null    int64  \n",
            " 3   Name         891 non-null    object \n",
            " 4   Sex          891 non-null    object \n",
            " 5   Age          714 non-null    float64\n",
            " 6   SibSp        891 non-null    int64  \n",
            " 7   Parch        891 non-null    int64  \n",
            " 8   Ticket       891 non-null    object \n",
            " 9   Fare         891 non-null    float64\n",
            " 10  Cabin        204 non-null    object \n",
            " 11  Embarked     889 non-null    object \n",
            "dtypes: float64(2), int64(5), object(5)\n",
            "memory usage: 83.7+ KB\n"
          ],
          "name": "stdout"
        }
      ]
    },
    {
      "cell_type": "code",
      "metadata": {
        "colab": {
          "base_uri": "https://localhost:8080/",
          "height": 204
        },
        "id": "lsYOrJxmW8DQ",
        "outputId": "d98f9c12-e7ac-4e77-9e12-39f8f9133246"
      },
      "source": [
        "test_data = pd.read_csv(TEST_DATA_PATH)\n",
        "test_data.head()"
      ],
      "execution_count": 20,
      "outputs": [
        {
          "output_type": "execute_result",
          "data": {
            "text/html": [
              "<div>\n",
              "<style scoped>\n",
              "    .dataframe tbody tr th:only-of-type {\n",
              "        vertical-align: middle;\n",
              "    }\n",
              "\n",
              "    .dataframe tbody tr th {\n",
              "        vertical-align: top;\n",
              "    }\n",
              "\n",
              "    .dataframe thead th {\n",
              "        text-align: right;\n",
              "    }\n",
              "</style>\n",
              "<table border=\"1\" class=\"dataframe\">\n",
              "  <thead>\n",
              "    <tr style=\"text-align: right;\">\n",
              "      <th></th>\n",
              "      <th>PassengerId</th>\n",
              "      <th>Pclass</th>\n",
              "      <th>Name</th>\n",
              "      <th>Sex</th>\n",
              "      <th>Age</th>\n",
              "      <th>SibSp</th>\n",
              "      <th>Parch</th>\n",
              "      <th>Ticket</th>\n",
              "      <th>Fare</th>\n",
              "      <th>Cabin</th>\n",
              "      <th>Embarked</th>\n",
              "    </tr>\n",
              "  </thead>\n",
              "  <tbody>\n",
              "    <tr>\n",
              "      <th>0</th>\n",
              "      <td>892</td>\n",
              "      <td>3</td>\n",
              "      <td>Kelly, Mr. James</td>\n",
              "      <td>male</td>\n",
              "      <td>34.5</td>\n",
              "      <td>0</td>\n",
              "      <td>0</td>\n",
              "      <td>330911</td>\n",
              "      <td>7.8292</td>\n",
              "      <td>NaN</td>\n",
              "      <td>Q</td>\n",
              "    </tr>\n",
              "    <tr>\n",
              "      <th>1</th>\n",
              "      <td>893</td>\n",
              "      <td>3</td>\n",
              "      <td>Wilkes, Mrs. James (Ellen Needs)</td>\n",
              "      <td>female</td>\n",
              "      <td>47.0</td>\n",
              "      <td>1</td>\n",
              "      <td>0</td>\n",
              "      <td>363272</td>\n",
              "      <td>7.0000</td>\n",
              "      <td>NaN</td>\n",
              "      <td>S</td>\n",
              "    </tr>\n",
              "    <tr>\n",
              "      <th>2</th>\n",
              "      <td>894</td>\n",
              "      <td>2</td>\n",
              "      <td>Myles, Mr. Thomas Francis</td>\n",
              "      <td>male</td>\n",
              "      <td>62.0</td>\n",
              "      <td>0</td>\n",
              "      <td>0</td>\n",
              "      <td>240276</td>\n",
              "      <td>9.6875</td>\n",
              "      <td>NaN</td>\n",
              "      <td>Q</td>\n",
              "    </tr>\n",
              "    <tr>\n",
              "      <th>3</th>\n",
              "      <td>895</td>\n",
              "      <td>3</td>\n",
              "      <td>Wirz, Mr. Albert</td>\n",
              "      <td>male</td>\n",
              "      <td>27.0</td>\n",
              "      <td>0</td>\n",
              "      <td>0</td>\n",
              "      <td>315154</td>\n",
              "      <td>8.6625</td>\n",
              "      <td>NaN</td>\n",
              "      <td>S</td>\n",
              "    </tr>\n",
              "    <tr>\n",
              "      <th>4</th>\n",
              "      <td>896</td>\n",
              "      <td>3</td>\n",
              "      <td>Hirvonen, Mrs. Alexander (Helga E Lindqvist)</td>\n",
              "      <td>female</td>\n",
              "      <td>22.0</td>\n",
              "      <td>1</td>\n",
              "      <td>1</td>\n",
              "      <td>3101298</td>\n",
              "      <td>12.2875</td>\n",
              "      <td>NaN</td>\n",
              "      <td>S</td>\n",
              "    </tr>\n",
              "  </tbody>\n",
              "</table>\n",
              "</div>"
            ],
            "text/plain": [
              "   PassengerId  Pclass  ... Cabin Embarked\n",
              "0          892       3  ...   NaN        Q\n",
              "1          893       3  ...   NaN        S\n",
              "2          894       2  ...   NaN        Q\n",
              "3          895       3  ...   NaN        S\n",
              "4          896       3  ...   NaN        S\n",
              "\n",
              "[5 rows x 11 columns]"
            ]
          },
          "metadata": {
            "tags": []
          },
          "execution_count": 20
        }
      ]
    },
    {
      "cell_type": "code",
      "metadata": {
        "colab": {
          "base_uri": "https://localhost:8080/"
        },
        "id": "Hef5d6fZp1_f",
        "outputId": "758314d1-5f64-4d61-9e59-f86b6a4747ca"
      },
      "source": [
        "test_data.info()"
      ],
      "execution_count": 15,
      "outputs": [
        {
          "output_type": "stream",
          "text": [
            "<class 'pandas.core.frame.DataFrame'>\n",
            "RangeIndex: 418 entries, 0 to 417\n",
            "Data columns (total 11 columns):\n",
            " #   Column       Non-Null Count  Dtype  \n",
            "---  ------       --------------  -----  \n",
            " 0   PassengerId  418 non-null    int64  \n",
            " 1   Pclass       418 non-null    int64  \n",
            " 2   Name         418 non-null    object \n",
            " 3   Sex          418 non-null    object \n",
            " 4   Age          332 non-null    float64\n",
            " 5   SibSp        418 non-null    int64  \n",
            " 6   Parch        418 non-null    int64  \n",
            " 7   Ticket       418 non-null    object \n",
            " 8   Fare         417 non-null    float64\n",
            " 9   Cabin        91 non-null     object \n",
            " 10  Embarked     418 non-null    object \n",
            "dtypes: float64(2), int64(4), object(5)\n",
            "memory usage: 36.0+ KB\n"
          ],
          "name": "stdout"
        }
      ]
    },
    {
      "cell_type": "markdown",
      "metadata": {
        "id": "Y_Y9fFktw-yi"
      },
      "source": [
        "#####Choose Features"
      ]
    },
    {
      "cell_type": "code",
      "metadata": {
        "id": "b74MWMvuW8Aw"
      },
      "source": [
        "features = ['Sex', 'Age', 'SibSp', 'Parch', 'Fare', 'Pclass', 'Embarked']\n",
        "\n",
        "train_data['Age'] = train_data['Age'].replace(np.NaN, train_data['Age'].dropna().mean())\n",
        "test_data['Age']  = test_data['Age'].replace(np.NaN, test_data['Age'].dropna().mean())\n",
        "test_data['Fare']  = test_data['Fare'].replace(np.NaN, test_data['Fare'].dropna().mean())\n",
        "\n",
        "train_data['Embarked'] = train_data['Embarked'].fillna(train_data['Embarked'].dropna().mode()[0])\n",
        "train_data['Embarked'] = train_data['Embarked'].map( {'S': 0, 'C': 1, 'Q': 2} ).astype(int)\n",
        "test_data['Embarked']  = test_data['Embarked'].fillna(test_data['Embarked'].dropna().mode()[0])\n",
        "test_data['Embarked'] = test_data['Embarked'].map( {'S': 0, 'C': 1, 'Q': 2} ).astype(int)\n",
        "\n",
        "train_data['Sex'] = train_data['Sex'].map( {'female': 1, 'male': 0} )\n",
        "test_data['Sex']  = test_data['Sex'].map( {'female': 1, 'male': 0} )\n",
        "\n",
        "\n",
        "train_filtered = train_data[features + ['Survived']]\n",
        "X = pd.get_dummies(train_filtered[features])\n",
        "Y = train_filtered['Survived']\n",
        "\n",
        "X=np.array(X)\n",
        "Y=keras.utils.to_categorical(np.array(Y))"
      ],
      "execution_count": 21,
      "outputs": []
    },
    {
      "cell_type": "code",
      "metadata": {
        "colab": {
          "base_uri": "https://localhost:8080/"
        },
        "id": "9n8H6d6oW7-B",
        "outputId": "b5f08f79-0412-4160-a715-737f651e32c7"
      },
      "source": [
        "X_train, X_val, Y_train, Y_val = train_test_split(X, Y, test_size=0.3, random_state=42)\n",
        "X_train.shape"
      ],
      "execution_count": 22,
      "outputs": [
        {
          "output_type": "execute_result",
          "data": {
            "text/plain": [
              "(623, 7)"
            ]
          },
          "metadata": {
            "tags": []
          },
          "execution_count": 22
        }
      ]
    },
    {
      "cell_type": "code",
      "metadata": {
        "colab": {
          "base_uri": "https://localhost:8080/"
        },
        "id": "kxonTVw3u8dg",
        "outputId": "7264399d-785c-4ad7-806c-91a49471ed58"
      },
      "source": [
        "train_data[features].info()"
      ],
      "execution_count": 23,
      "outputs": [
        {
          "output_type": "stream",
          "text": [
            "<class 'pandas.core.frame.DataFrame'>\n",
            "RangeIndex: 891 entries, 0 to 890\n",
            "Data columns (total 7 columns):\n",
            " #   Column    Non-Null Count  Dtype  \n",
            "---  ------    --------------  -----  \n",
            " 0   Sex       891 non-null    int64  \n",
            " 1   Age       891 non-null    float64\n",
            " 2   SibSp     891 non-null    int64  \n",
            " 3   Parch     891 non-null    int64  \n",
            " 4   Fare      891 non-null    float64\n",
            " 5   Pclass    891 non-null    int64  \n",
            " 6   Embarked  891 non-null    int64  \n",
            "dtypes: float64(2), int64(5)\n",
            "memory usage: 48.9 KB\n"
          ],
          "name": "stdout"
        }
      ]
    },
    {
      "cell_type": "code",
      "metadata": {
        "colab": {
          "base_uri": "https://localhost:8080/"
        },
        "id": "zAI2_lDr0G_B",
        "outputId": "36af6a22-ca43-4302-faa7-b2f465555ba0"
      },
      "source": [
        "test_data[features].info()"
      ],
      "execution_count": 24,
      "outputs": [
        {
          "output_type": "stream",
          "text": [
            "<class 'pandas.core.frame.DataFrame'>\n",
            "RangeIndex: 418 entries, 0 to 417\n",
            "Data columns (total 7 columns):\n",
            " #   Column    Non-Null Count  Dtype  \n",
            "---  ------    --------------  -----  \n",
            " 0   Sex       418 non-null    int64  \n",
            " 1   Age       418 non-null    float64\n",
            " 2   SibSp     418 non-null    int64  \n",
            " 3   Parch     418 non-null    int64  \n",
            " 4   Fare      418 non-null    float64\n",
            " 5   Pclass    418 non-null    int64  \n",
            " 6   Embarked  418 non-null    int64  \n",
            "dtypes: float64(2), int64(5)\n",
            "memory usage: 23.0 KB\n"
          ],
          "name": "stdout"
        }
      ]
    },
    {
      "cell_type": "markdown",
      "metadata": {
        "id": "0X3ciXBWwig7"
      },
      "source": [
        "#####Model"
      ]
    },
    {
      "cell_type": "code",
      "metadata": {
        "id": "96wHUDc9W70Y"
      },
      "source": [
        "model = Sequential()\n",
        "# model.add(Dense(64, activation='relu'))\n",
        "# model.add(Dropout(0.4))\n",
        "model.add(Dense(2, activation='softmax'))"
      ],
      "execution_count": 44,
      "outputs": []
    },
    {
      "cell_type": "code",
      "metadata": {
        "id": "myo4-PhtiQBl"
      },
      "source": [
        "model.compile(loss=keras.losses.binary_crossentropy, optimizer = keras.optimizers.Adam(learning_rate = 0.001), metrics=['accuracy'])"
      ],
      "execution_count": 45,
      "outputs": []
    },
    {
      "cell_type": "code",
      "metadata": {
        "colab": {
          "base_uri": "https://localhost:8080/"
        },
        "id": "_ZL8joBxiP-z",
        "outputId": "650bc2bd-0b21-400c-ccb2-635bc75cdc5a"
      },
      "source": [
        "history=model.fit(X_train,Y_train, batch_size=10, validation_data=(X_val,Y_val),epochs= 50)"
      ],
      "execution_count": 46,
      "outputs": [
        {
          "output_type": "stream",
          "text": [
            "Epoch 1/50\n",
            "63/63 [==============================] - 1s 4ms/step - loss: 8.3787 - accuracy: 0.6292 - val_loss: 8.9677 - val_accuracy: 0.5858\n",
            "Epoch 2/50\n",
            "63/63 [==============================] - 0s 3ms/step - loss: 7.3843 - accuracy: 0.6292 - val_loss: 7.8313 - val_accuracy: 0.5896\n",
            "Epoch 3/50\n",
            "63/63 [==============================] - 0s 3ms/step - loss: 6.4243 - accuracy: 0.6372 - val_loss: 6.7470 - val_accuracy: 0.5896\n",
            "Epoch 4/50\n",
            "63/63 [==============================] - 0s 3ms/step - loss: 5.5017 - accuracy: 0.6437 - val_loss: 5.6844 - val_accuracy: 0.5896\n",
            "Epoch 5/50\n",
            "63/63 [==============================] - 0s 3ms/step - loss: 4.5934 - accuracy: 0.6533 - val_loss: 4.6056 - val_accuracy: 0.6007\n",
            "Epoch 6/50\n",
            "63/63 [==============================] - 0s 3ms/step - loss: 3.7170 - accuracy: 0.6581 - val_loss: 3.6005 - val_accuracy: 0.6119\n",
            "Epoch 7/50\n",
            "63/63 [==============================] - 0s 3ms/step - loss: 2.8768 - accuracy: 0.6549 - val_loss: 2.6271 - val_accuracy: 0.6418\n",
            "Epoch 8/50\n",
            "63/63 [==============================] - 0s 3ms/step - loss: 2.1218 - accuracy: 0.6677 - val_loss: 1.8730 - val_accuracy: 0.6567\n",
            "Epoch 9/50\n",
            "63/63 [==============================] - 0s 3ms/step - loss: 1.6118 - accuracy: 0.6742 - val_loss: 1.4083 - val_accuracy: 0.6604\n",
            "Epoch 10/50\n",
            "63/63 [==============================] - 0s 3ms/step - loss: 1.3093 - accuracy: 0.6806 - val_loss: 1.1531 - val_accuracy: 0.6866\n",
            "Epoch 11/50\n",
            "63/63 [==============================] - 0s 3ms/step - loss: 1.1108 - accuracy: 0.6854 - val_loss: 0.9682 - val_accuracy: 0.6978\n",
            "Epoch 12/50\n",
            "63/63 [==============================] - 0s 3ms/step - loss: 0.9618 - accuracy: 0.6854 - val_loss: 0.8476 - val_accuracy: 0.6978\n",
            "Epoch 13/50\n",
            "63/63 [==============================] - 0s 3ms/step - loss: 0.8448 - accuracy: 0.6886 - val_loss: 0.7602 - val_accuracy: 0.6978\n",
            "Epoch 14/50\n",
            "63/63 [==============================] - 0s 3ms/step - loss: 0.7505 - accuracy: 0.6886 - val_loss: 0.7047 - val_accuracy: 0.6978\n",
            "Epoch 15/50\n",
            "63/63 [==============================] - 0s 3ms/step - loss: 0.6905 - accuracy: 0.6886 - val_loss: 0.6539 - val_accuracy: 0.6940\n",
            "Epoch 16/50\n",
            "63/63 [==============================] - 0s 3ms/step - loss: 0.6513 - accuracy: 0.6982 - val_loss: 0.6327 - val_accuracy: 0.7090\n",
            "Epoch 17/50\n",
            "63/63 [==============================] - 0s 3ms/step - loss: 0.6288 - accuracy: 0.7111 - val_loss: 0.6181 - val_accuracy: 0.7164\n",
            "Epoch 18/50\n",
            "63/63 [==============================] - 0s 3ms/step - loss: 0.6133 - accuracy: 0.7143 - val_loss: 0.6004 - val_accuracy: 0.7239\n",
            "Epoch 19/50\n",
            "63/63 [==============================] - 0s 3ms/step - loss: 0.6020 - accuracy: 0.7159 - val_loss: 0.5914 - val_accuracy: 0.7313\n",
            "Epoch 20/50\n",
            "63/63 [==============================] - 0s 3ms/step - loss: 0.5897 - accuracy: 0.7287 - val_loss: 0.5843 - val_accuracy: 0.7313\n",
            "Epoch 21/50\n",
            "63/63 [==============================] - 0s 3ms/step - loss: 0.5786 - accuracy: 0.7384 - val_loss: 0.5797 - val_accuracy: 0.7388\n",
            "Epoch 22/50\n",
            "63/63 [==============================] - 0s 3ms/step - loss: 0.5697 - accuracy: 0.7335 - val_loss: 0.5636 - val_accuracy: 0.7388\n",
            "Epoch 23/50\n",
            "63/63 [==============================] - 0s 3ms/step - loss: 0.5629 - accuracy: 0.7464 - val_loss: 0.5618 - val_accuracy: 0.7500\n",
            "Epoch 24/50\n",
            "63/63 [==============================] - 0s 3ms/step - loss: 0.5552 - accuracy: 0.7416 - val_loss: 0.5510 - val_accuracy: 0.7463\n",
            "Epoch 25/50\n",
            "63/63 [==============================] - 0s 3ms/step - loss: 0.5481 - accuracy: 0.7512 - val_loss: 0.5530 - val_accuracy: 0.7463\n",
            "Epoch 26/50\n",
            "63/63 [==============================] - 0s 3ms/step - loss: 0.5455 - accuracy: 0.7448 - val_loss: 0.5400 - val_accuracy: 0.7537\n",
            "Epoch 27/50\n",
            "63/63 [==============================] - 0s 4ms/step - loss: 0.5393 - accuracy: 0.7576 - val_loss: 0.5354 - val_accuracy: 0.7612\n",
            "Epoch 28/50\n",
            "63/63 [==============================] - 0s 3ms/step - loss: 0.5341 - accuracy: 0.7640 - val_loss: 0.5290 - val_accuracy: 0.7612\n",
            "Epoch 29/50\n",
            "63/63 [==============================] - 0s 3ms/step - loss: 0.5306 - accuracy: 0.7640 - val_loss: 0.5280 - val_accuracy: 0.7537\n",
            "Epoch 30/50\n",
            "63/63 [==============================] - 0s 3ms/step - loss: 0.5269 - accuracy: 0.7624 - val_loss: 0.5217 - val_accuracy: 0.7649\n",
            "Epoch 31/50\n",
            "63/63 [==============================] - 0s 3ms/step - loss: 0.5229 - accuracy: 0.7624 - val_loss: 0.5199 - val_accuracy: 0.7575\n",
            "Epoch 32/50\n",
            "63/63 [==============================] - 0s 3ms/step - loss: 0.5193 - accuracy: 0.7576 - val_loss: 0.5137 - val_accuracy: 0.7724\n",
            "Epoch 33/50\n",
            "63/63 [==============================] - 0s 3ms/step - loss: 0.5150 - accuracy: 0.7737 - val_loss: 0.5104 - val_accuracy: 0.7761\n",
            "Epoch 34/50\n",
            "63/63 [==============================] - 0s 3ms/step - loss: 0.5139 - accuracy: 0.7753 - val_loss: 0.5060 - val_accuracy: 0.7799\n",
            "Epoch 35/50\n",
            "63/63 [==============================] - 0s 3ms/step - loss: 0.5102 - accuracy: 0.7801 - val_loss: 0.5073 - val_accuracy: 0.7649\n",
            "Epoch 36/50\n",
            "63/63 [==============================] - 0s 3ms/step - loss: 0.5084 - accuracy: 0.7721 - val_loss: 0.5030 - val_accuracy: 0.7761\n",
            "Epoch 37/50\n",
            "63/63 [==============================] - 0s 3ms/step - loss: 0.5067 - accuracy: 0.7753 - val_loss: 0.4980 - val_accuracy: 0.8060\n",
            "Epoch 38/50\n",
            "63/63 [==============================] - 0s 3ms/step - loss: 0.5035 - accuracy: 0.7865 - val_loss: 0.4973 - val_accuracy: 0.7836\n",
            "Epoch 39/50\n",
            "63/63 [==============================] - 0s 3ms/step - loss: 0.5028 - accuracy: 0.7913 - val_loss: 0.4961 - val_accuracy: 0.7799\n",
            "Epoch 40/50\n",
            "63/63 [==============================] - 0s 3ms/step - loss: 0.5000 - accuracy: 0.7881 - val_loss: 0.4942 - val_accuracy: 0.7873\n",
            "Epoch 41/50\n",
            "63/63 [==============================] - 0s 3ms/step - loss: 0.4977 - accuracy: 0.7994 - val_loss: 0.4908 - val_accuracy: 0.7948\n",
            "Epoch 42/50\n",
            "63/63 [==============================] - 0s 3ms/step - loss: 0.4958 - accuracy: 0.7913 - val_loss: 0.4885 - val_accuracy: 0.7910\n",
            "Epoch 43/50\n",
            "63/63 [==============================] - 0s 3ms/step - loss: 0.4950 - accuracy: 0.7978 - val_loss: 0.4856 - val_accuracy: 0.7948\n",
            "Epoch 44/50\n",
            "63/63 [==============================] - 0s 3ms/step - loss: 0.4932 - accuracy: 0.8026 - val_loss: 0.4832 - val_accuracy: 0.8097\n",
            "Epoch 45/50\n",
            "63/63 [==============================] - 0s 3ms/step - loss: 0.4911 - accuracy: 0.7945 - val_loss: 0.4806 - val_accuracy: 0.8097\n",
            "Epoch 46/50\n",
            "63/63 [==============================] - 0s 4ms/step - loss: 0.4897 - accuracy: 0.7994 - val_loss: 0.4821 - val_accuracy: 0.7948\n",
            "Epoch 47/50\n",
            "63/63 [==============================] - 0s 3ms/step - loss: 0.4884 - accuracy: 0.7961 - val_loss: 0.4788 - val_accuracy: 0.8097\n",
            "Epoch 48/50\n",
            "63/63 [==============================] - 0s 3ms/step - loss: 0.4887 - accuracy: 0.7978 - val_loss: 0.4777 - val_accuracy: 0.7948\n",
            "Epoch 49/50\n",
            "63/63 [==============================] - 0s 3ms/step - loss: 0.4843 - accuracy: 0.7978 - val_loss: 0.4743 - val_accuracy: 0.8209\n",
            "Epoch 50/50\n",
            "63/63 [==============================] - 0s 3ms/step - loss: 0.4860 - accuracy: 0.8010 - val_loss: 0.4727 - val_accuracy: 0.8209\n"
          ],
          "name": "stdout"
        }
      ]
    },
    {
      "cell_type": "markdown",
      "metadata": {
        "id": "p5fBT1M4wnu5"
      },
      "source": [
        "#####TUTORIAL_MODEL"
      ]
    },
    {
      "cell_type": "code",
      "metadata": {
        "colab": {
          "base_uri": "https://localhost:8080/"
        },
        "id": "3Donz9PriP1m",
        "outputId": "1dd77b88-8fb8-4aef-b5de-6b3fd6a83b55"
      },
      "source": [
        "from sklearn.ensemble import RandomForestClassifier\n",
        "tutorial_model = RandomForestClassifier(n_estimators=100, max_depth=10)\n",
        "\n",
        "# for testing acc\n",
        "tutorial_model.fit(X_train, Y_train)\n",
        "# tutorial_model.fit(X, Y)"
      ],
      "execution_count": 47,
      "outputs": [
        {
          "output_type": "execute_result",
          "data": {
            "text/plain": [
              "RandomForestClassifier(bootstrap=True, ccp_alpha=0.0, class_weight=None,\n",
              "                       criterion='gini', max_depth=10, max_features='auto',\n",
              "                       max_leaf_nodes=None, max_samples=None,\n",
              "                       min_impurity_decrease=0.0, min_impurity_split=None,\n",
              "                       min_samples_leaf=1, min_samples_split=2,\n",
              "                       min_weight_fraction_leaf=0.0, n_estimators=100,\n",
              "                       n_jobs=None, oob_score=False, random_state=None,\n",
              "                       verbose=0, warm_start=False)"
            ]
          },
          "metadata": {
            "tags": []
          },
          "execution_count": 47
        }
      ]
    },
    {
      "cell_type": "markdown",
      "metadata": {
        "id": "6n2nLGa8ZVI-"
      },
      "source": [
        "#####Output"
      ]
    },
    {
      "cell_type": "code",
      "metadata": {
        "id": "ElVd3gPQlZkf",
        "colab": {
          "base_uri": "https://localhost:8080/"
        },
        "outputId": "d9f5b7dc-b785-4d59-d378-0140c3adf765"
      },
      "source": [
        "X_test = pd.get_dummies(test_data[features])\n",
        "# predictions = (model.predict(X_test) > 0.5).astype(\"int32\").T[0]\n",
        "\n",
        "tutorial_predictions = tutorial_model.predict(X_test)\n",
        "\n",
        "# test tutorial model acc\n",
        "# tutorial_predictions = tutorial_model.predict(X_val)\n",
        "# 1-sum(abs(tutorial_predictions - Y_val))/tutorial_predictions.shape[0]\n",
        "'random forest acc:', round(tutorial_model.score(X_val, Y_val) * 100, 2)"
      ],
      "execution_count": 49,
      "outputs": [
        {
          "output_type": "execute_result",
          "data": {
            "text/plain": [
              "('random forest acc:', 80.97)"
            ]
          },
          "metadata": {
            "tags": []
          },
          "execution_count": 49
        }
      ]
    },
    {
      "cell_type": "code",
      "metadata": {
        "id": "8VfrpOPFnRGD"
      },
      "source": [
        "output = pd.DataFrame({'PassengerId': test_data.PassengerId, 'Survived': tutorial_predictions})"
      ],
      "execution_count": 44,
      "outputs": []
    },
    {
      "cell_type": "code",
      "metadata": {
        "id": "nCaLbxKonTWK"
      },
      "source": [
        "OUTPUTH_FILE_PATH = '/content/drive/MyDrive/kaggle/titanic/my_submission.csv'\n",
        "output.to_csv(OUTPUTH_FILE_PATH, index=False)"
      ],
      "execution_count": 45,
      "outputs": []
    }
  ]
}