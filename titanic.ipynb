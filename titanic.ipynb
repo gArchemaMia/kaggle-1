{
  "nbformat": 4,
  "nbformat_minor": 0,
  "metadata": {
    "colab": {
      "name": "titanic.ipynb",
      "provenance": [],
      "collapsed_sections": []
    },
    "kernelspec": {
      "name": "python3",
      "display_name": "Python 3"
    },
    "language_info": {
      "name": "python"
    },
    "accelerator": "GPU"
  },
  "cells": [
    {
      "cell_type": "code",
      "metadata": {
        "colab": {
          "base_uri": "https://localhost:8080/"
        },
        "id": "oBvDMU4hVSJo",
        "outputId": "755a28f7-0042-4c1c-a610-60aabfc9455f"
      },
      "source": [
        "from google.colab import drive\n",
        "drive.mount('/content/drive')"
      ],
      "execution_count": 1,
      "outputs": [
        {
          "output_type": "stream",
          "text": [
            "Mounted at /content/drive\n"
          ],
          "name": "stdout"
        }
      ]
    },
    {
      "cell_type": "markdown",
      "metadata": {
        "id": "cMTSw3v7Vf8s"
      },
      "source": [
        "#####import"
      ]
    },
    {
      "cell_type": "code",
      "metadata": {
        "id": "iVs-gzbzVmPz"
      },
      "source": [
        "import numpy as np \n",
        "import pandas as pd\n",
        "from imblearn.over_sampling import SMOTE\n",
        "from tensorflow import keras\n",
        "from tensorflow.keras.layers import Dense,Dropout\n",
        "from tensorflow.keras.models import Sequential\n",
        "\n",
        "from sklearn.model_selection import train_test_split"
      ],
      "execution_count": 16,
      "outputs": []
    },
    {
      "cell_type": "code",
      "metadata": {
        "id": "q_DqUfiEVm0B"
      },
      "source": [
        "TRAIN_DATA_PATH = '/content/drive/MyDrive/kaggle/titanic/train.csv'\n",
        "TEST_DATA_PATH = '/content/drive/MyDrive/kaggle/titanic/test.csv'"
      ],
      "execution_count": 3,
      "outputs": []
    },
    {
      "cell_type": "code",
      "metadata": {
        "id": "jCIQvNx7VmkS",
        "colab": {
          "base_uri": "https://localhost:8080/",
          "height": 204
        },
        "outputId": "b1778d8c-fb41-426f-8185-f192b75cd7d8"
      },
      "source": [
        "train_data = pd.read_csv(TRAIN_DATA_PATH)\n",
        "train_data.head()"
      ],
      "execution_count": 4,
      "outputs": [
        {
          "output_type": "execute_result",
          "data": {
            "text/html": [
              "<div>\n",
              "<style scoped>\n",
              "    .dataframe tbody tr th:only-of-type {\n",
              "        vertical-align: middle;\n",
              "    }\n",
              "\n",
              "    .dataframe tbody tr th {\n",
              "        vertical-align: top;\n",
              "    }\n",
              "\n",
              "    .dataframe thead th {\n",
              "        text-align: right;\n",
              "    }\n",
              "</style>\n",
              "<table border=\"1\" class=\"dataframe\">\n",
              "  <thead>\n",
              "    <tr style=\"text-align: right;\">\n",
              "      <th></th>\n",
              "      <th>PassengerId</th>\n",
              "      <th>Survived</th>\n",
              "      <th>Pclass</th>\n",
              "      <th>Name</th>\n",
              "      <th>Sex</th>\n",
              "      <th>Age</th>\n",
              "      <th>SibSp</th>\n",
              "      <th>Parch</th>\n",
              "      <th>Ticket</th>\n",
              "      <th>Fare</th>\n",
              "      <th>Cabin</th>\n",
              "      <th>Embarked</th>\n",
              "    </tr>\n",
              "  </thead>\n",
              "  <tbody>\n",
              "    <tr>\n",
              "      <th>0</th>\n",
              "      <td>1</td>\n",
              "      <td>0</td>\n",
              "      <td>3</td>\n",
              "      <td>Braund, Mr. Owen Harris</td>\n",
              "      <td>male</td>\n",
              "      <td>22.0</td>\n",
              "      <td>1</td>\n",
              "      <td>0</td>\n",
              "      <td>A/5 21171</td>\n",
              "      <td>7.2500</td>\n",
              "      <td>NaN</td>\n",
              "      <td>S</td>\n",
              "    </tr>\n",
              "    <tr>\n",
              "      <th>1</th>\n",
              "      <td>2</td>\n",
              "      <td>1</td>\n",
              "      <td>1</td>\n",
              "      <td>Cumings, Mrs. John Bradley (Florence Briggs Th...</td>\n",
              "      <td>female</td>\n",
              "      <td>38.0</td>\n",
              "      <td>1</td>\n",
              "      <td>0</td>\n",
              "      <td>PC 17599</td>\n",
              "      <td>71.2833</td>\n",
              "      <td>C85</td>\n",
              "      <td>C</td>\n",
              "    </tr>\n",
              "    <tr>\n",
              "      <th>2</th>\n",
              "      <td>3</td>\n",
              "      <td>1</td>\n",
              "      <td>3</td>\n",
              "      <td>Heikkinen, Miss. Laina</td>\n",
              "      <td>female</td>\n",
              "      <td>26.0</td>\n",
              "      <td>0</td>\n",
              "      <td>0</td>\n",
              "      <td>STON/O2. 3101282</td>\n",
              "      <td>7.9250</td>\n",
              "      <td>NaN</td>\n",
              "      <td>S</td>\n",
              "    </tr>\n",
              "    <tr>\n",
              "      <th>3</th>\n",
              "      <td>4</td>\n",
              "      <td>1</td>\n",
              "      <td>1</td>\n",
              "      <td>Futrelle, Mrs. Jacques Heath (Lily May Peel)</td>\n",
              "      <td>female</td>\n",
              "      <td>35.0</td>\n",
              "      <td>1</td>\n",
              "      <td>0</td>\n",
              "      <td>113803</td>\n",
              "      <td>53.1000</td>\n",
              "      <td>C123</td>\n",
              "      <td>S</td>\n",
              "    </tr>\n",
              "    <tr>\n",
              "      <th>4</th>\n",
              "      <td>5</td>\n",
              "      <td>0</td>\n",
              "      <td>3</td>\n",
              "      <td>Allen, Mr. William Henry</td>\n",
              "      <td>male</td>\n",
              "      <td>35.0</td>\n",
              "      <td>0</td>\n",
              "      <td>0</td>\n",
              "      <td>373450</td>\n",
              "      <td>8.0500</td>\n",
              "      <td>NaN</td>\n",
              "      <td>S</td>\n",
              "    </tr>\n",
              "  </tbody>\n",
              "</table>\n",
              "</div>"
            ],
            "text/plain": [
              "   PassengerId  Survived  Pclass  ...     Fare Cabin  Embarked\n",
              "0            1         0       3  ...   7.2500   NaN         S\n",
              "1            2         1       1  ...  71.2833   C85         C\n",
              "2            3         1       3  ...   7.9250   NaN         S\n",
              "3            4         1       1  ...  53.1000  C123         S\n",
              "4            5         0       3  ...   8.0500   NaN         S\n",
              "\n",
              "[5 rows x 12 columns]"
            ]
          },
          "metadata": {
            "tags": []
          },
          "execution_count": 4
        }
      ]
    },
    {
      "cell_type": "code",
      "metadata": {
        "colab": {
          "base_uri": "https://localhost:8080/"
        },
        "id": "dKEt2cM7ptIB",
        "outputId": "5eecf932-dad1-41c8-dfab-f53ecdd89b81"
      },
      "source": [
        "train_data.info()"
      ],
      "execution_count": null,
      "outputs": [
        {
          "output_type": "stream",
          "text": [
            "<class 'pandas.core.frame.DataFrame'>\n",
            "RangeIndex: 891 entries, 0 to 890\n",
            "Data columns (total 12 columns):\n",
            " #   Column       Non-Null Count  Dtype  \n",
            "---  ------       --------------  -----  \n",
            " 0   PassengerId  891 non-null    int64  \n",
            " 1   Survived     891 non-null    int64  \n",
            " 2   Pclass       891 non-null    int64  \n",
            " 3   Name         891 non-null    object \n",
            " 4   Sex          891 non-null    object \n",
            " 5   Age          714 non-null    float64\n",
            " 6   SibSp        891 non-null    int64  \n",
            " 7   Parch        891 non-null    int64  \n",
            " 8   Ticket       891 non-null    object \n",
            " 9   Fare         891 non-null    float64\n",
            " 10  Cabin        204 non-null    object \n",
            " 11  Embarked     889 non-null    object \n",
            "dtypes: float64(2), int64(5), object(5)\n",
            "memory usage: 83.7+ KB\n"
          ],
          "name": "stdout"
        }
      ]
    },
    {
      "cell_type": "code",
      "metadata": {
        "colab": {
          "base_uri": "https://localhost:8080/",
          "height": 204
        },
        "id": "lsYOrJxmW8DQ",
        "outputId": "3be7c56b-eab4-4289-b6f9-bbf7ff74c35f"
      },
      "source": [
        "test_data = pd.read_csv(TEST_DATA_PATH)\n",
        "test_data.head()"
      ],
      "execution_count": 5,
      "outputs": [
        {
          "output_type": "execute_result",
          "data": {
            "text/html": [
              "<div>\n",
              "<style scoped>\n",
              "    .dataframe tbody tr th:only-of-type {\n",
              "        vertical-align: middle;\n",
              "    }\n",
              "\n",
              "    .dataframe tbody tr th {\n",
              "        vertical-align: top;\n",
              "    }\n",
              "\n",
              "    .dataframe thead th {\n",
              "        text-align: right;\n",
              "    }\n",
              "</style>\n",
              "<table border=\"1\" class=\"dataframe\">\n",
              "  <thead>\n",
              "    <tr style=\"text-align: right;\">\n",
              "      <th></th>\n",
              "      <th>PassengerId</th>\n",
              "      <th>Pclass</th>\n",
              "      <th>Name</th>\n",
              "      <th>Sex</th>\n",
              "      <th>Age</th>\n",
              "      <th>SibSp</th>\n",
              "      <th>Parch</th>\n",
              "      <th>Ticket</th>\n",
              "      <th>Fare</th>\n",
              "      <th>Cabin</th>\n",
              "      <th>Embarked</th>\n",
              "    </tr>\n",
              "  </thead>\n",
              "  <tbody>\n",
              "    <tr>\n",
              "      <th>0</th>\n",
              "      <td>892</td>\n",
              "      <td>3</td>\n",
              "      <td>Kelly, Mr. James</td>\n",
              "      <td>male</td>\n",
              "      <td>34.5</td>\n",
              "      <td>0</td>\n",
              "      <td>0</td>\n",
              "      <td>330911</td>\n",
              "      <td>7.8292</td>\n",
              "      <td>NaN</td>\n",
              "      <td>Q</td>\n",
              "    </tr>\n",
              "    <tr>\n",
              "      <th>1</th>\n",
              "      <td>893</td>\n",
              "      <td>3</td>\n",
              "      <td>Wilkes, Mrs. James (Ellen Needs)</td>\n",
              "      <td>female</td>\n",
              "      <td>47.0</td>\n",
              "      <td>1</td>\n",
              "      <td>0</td>\n",
              "      <td>363272</td>\n",
              "      <td>7.0000</td>\n",
              "      <td>NaN</td>\n",
              "      <td>S</td>\n",
              "    </tr>\n",
              "    <tr>\n",
              "      <th>2</th>\n",
              "      <td>894</td>\n",
              "      <td>2</td>\n",
              "      <td>Myles, Mr. Thomas Francis</td>\n",
              "      <td>male</td>\n",
              "      <td>62.0</td>\n",
              "      <td>0</td>\n",
              "      <td>0</td>\n",
              "      <td>240276</td>\n",
              "      <td>9.6875</td>\n",
              "      <td>NaN</td>\n",
              "      <td>Q</td>\n",
              "    </tr>\n",
              "    <tr>\n",
              "      <th>3</th>\n",
              "      <td>895</td>\n",
              "      <td>3</td>\n",
              "      <td>Wirz, Mr. Albert</td>\n",
              "      <td>male</td>\n",
              "      <td>27.0</td>\n",
              "      <td>0</td>\n",
              "      <td>0</td>\n",
              "      <td>315154</td>\n",
              "      <td>8.6625</td>\n",
              "      <td>NaN</td>\n",
              "      <td>S</td>\n",
              "    </tr>\n",
              "    <tr>\n",
              "      <th>4</th>\n",
              "      <td>896</td>\n",
              "      <td>3</td>\n",
              "      <td>Hirvonen, Mrs. Alexander (Helga E Lindqvist)</td>\n",
              "      <td>female</td>\n",
              "      <td>22.0</td>\n",
              "      <td>1</td>\n",
              "      <td>1</td>\n",
              "      <td>3101298</td>\n",
              "      <td>12.2875</td>\n",
              "      <td>NaN</td>\n",
              "      <td>S</td>\n",
              "    </tr>\n",
              "  </tbody>\n",
              "</table>\n",
              "</div>"
            ],
            "text/plain": [
              "   PassengerId  Pclass  ... Cabin Embarked\n",
              "0          892       3  ...   NaN        Q\n",
              "1          893       3  ...   NaN        S\n",
              "2          894       2  ...   NaN        Q\n",
              "3          895       3  ...   NaN        S\n",
              "4          896       3  ...   NaN        S\n",
              "\n",
              "[5 rows x 11 columns]"
            ]
          },
          "metadata": {
            "tags": []
          },
          "execution_count": 5
        }
      ]
    },
    {
      "cell_type": "code",
      "metadata": {
        "colab": {
          "base_uri": "https://localhost:8080/"
        },
        "id": "Hef5d6fZp1_f",
        "outputId": "80875004-958f-4629-ae1b-e51f8f3d3e18"
      },
      "source": [
        "test_data.info()"
      ],
      "execution_count": null,
      "outputs": [
        {
          "output_type": "stream",
          "text": [
            "<class 'pandas.core.frame.DataFrame'>\n",
            "RangeIndex: 418 entries, 0 to 417\n",
            "Data columns (total 11 columns):\n",
            " #   Column       Non-Null Count  Dtype  \n",
            "---  ------       --------------  -----  \n",
            " 0   PassengerId  418 non-null    int64  \n",
            " 1   Pclass       418 non-null    int64  \n",
            " 2   Name         418 non-null    object \n",
            " 3   Sex          418 non-null    object \n",
            " 4   Age          332 non-null    float64\n",
            " 5   SibSp        418 non-null    int64  \n",
            " 6   Parch        418 non-null    int64  \n",
            " 7   Ticket       418 non-null    object \n",
            " 8   Fare         417 non-null    float64\n",
            " 9   Cabin        91 non-null     object \n",
            " 10  Embarked     418 non-null    object \n",
            "dtypes: float64(2), int64(4), object(5)\n",
            "memory usage: 36.0+ KB\n"
          ],
          "name": "stdout"
        }
      ]
    },
    {
      "cell_type": "markdown",
      "metadata": {
        "id": "Y_Y9fFktw-yi"
      },
      "source": [
        "#####Choose Features"
      ]
    },
    {
      "cell_type": "code",
      "metadata": {
        "colab": {
          "base_uri": "https://localhost:8080/",
          "height": 265
        },
        "id": "wOkb7Rt_aMav",
        "outputId": "7dfe5313-80bc-4ddf-909b-5867dc0145e7"
      },
      "source": [
        "train_data['Survived'].value_counts().plot.pie(explode=[0,0.1],shadow=True)"
      ],
      "execution_count": null,
      "outputs": [
        {
          "output_type": "execute_result",
          "data": {
            "text/plain": [
              "<matplotlib.axes._subplots.AxesSubplot at 0x7fbf2c1bec90>"
            ]
          },
          "metadata": {
            "tags": []
          },
          "execution_count": 33
        },
        {
          "output_type": "display_data",
          "data": {
            "image/png": "[encoded data removed]",
            "text/plain": [
              "<Figure size 432x288 with 1 Axes>"
            ]
          },
          "metadata": {
            "tags": []
          }
        }
      ]
    },
    {
      "cell_type": "code",
      "metadata": {
        "id": "b74MWMvuW8Aw"
      },
      "source": [
        "features = ['Sex', 'Age', 'SibSp', 'Parch', 'Fare', 'Pclass', 'Embarked']\n",
        "\n",
        "train_data['Age'] = train_data['Age'].replace(np.NaN, train_data['Age'].dropna().mean())\n",
        "test_data['Age']  = test_data['Age'].replace(np.NaN, test_data['Age'].dropna().mean())\n",
        "test_data['Fare']  = test_data['Fare'].replace(np.NaN, test_data['Fare'].dropna().mean())\n",
        "\n",
        "train_data['Embarked'] = train_data['Embarked'].fillna(train_data['Embarked'].dropna().mode()[0])\n",
        "train_data['Embarked'] = train_data['Embarked'].map( {'S': 0, 'C': 1, 'Q': 2} ).astype(int)\n",
        "test_data['Embarked']  = test_data['Embarked'].fillna(test_data['Embarked'].dropna().mode()[0])\n",
        "test_data['Embarked'] = test_data['Embarked'].map( {'S': 0, 'C': 1, 'Q': 2} ).astype(int)\n",
        "\n",
        "train_data['Sex'] = train_data['Sex'].map( {'female': 1, 'male': 0} )\n",
        "test_data['Sex']  = test_data['Sex'].map( {'female': 1, 'male': 0} )\n",
        "\n",
        "\n",
        "train_filtered = train_data[features + ['Survived']]\n",
        "X = pd.get_dummies(train_filtered[features])\n",
        "Y = train_filtered['Survived']"
      ],
      "execution_count": 6,
      "outputs": []
    },
    {
      "cell_type": "code",
      "metadata": {
        "id": "9Yx3rvnQw7ja"
      },
      "source": [
        "over_sampler = SMOTE()\n",
        "X, Y = over_sampler.fit_resample(X, Y)\n",
        "\n",
        "X=np.array(X)\n",
        "Y=keras.utils.to_categorical(np.array(Y))"
      ],
      "execution_count": 110,
      "outputs": []
    },
    {
      "cell_type": "code",
      "metadata": {
        "colab": {
          "base_uri": "https://localhost:8080/",
          "height": 266
        },
        "id": "FGm0j4KxeSjb",
        "outputId": "5642697c-2e1c-4f80-d535-3b3700d11349"
      },
      "source": [
        "pd.DataFrame(Y).value_counts().plot.pie(explode=[0,0.1],shadow=True)"
      ],
      "execution_count": 45,
      "outputs": [
        {
          "output_type": "execute_result",
          "data": {
            "text/plain": [
              "<matplotlib.axes._subplots.AxesSubplot at 0x7f1d2bbf3950>"
            ]
          },
          "metadata": {
            "tags": []
          },
          "execution_count": 45
        },
        {
          "output_type": "display_data",
          "data": {
            "image/png": "[encoded data removed]",
            "text/plain": [
              "<Figure size 432x288 with 1 Axes>"
            ]
          },
          "metadata": {
            "tags": []
          }
        }
      ]
    },
    {
      "cell_type": "code",
      "metadata": {
        "colab": {
          "base_uri": "https://localhost:8080/"
        },
        "id": "9n8H6d6oW7-B",
        "outputId": "d7278ec0-9d46-40d0-8448-8b59552bfaf0"
      },
      "source": [
        "X_train, X_val, Y_train, Y_val = train_test_split(X, Y, test_size=0.3, random_state=42)\n",
        "X_train.shape"
      ],
      "execution_count": 111,
      "outputs": [
        {
          "output_type": "execute_result",
          "data": {
            "text/plain": [
              "(768, 7)"
            ]
          },
          "metadata": {
            "tags": []
          },
          "execution_count": 111
        }
      ]
    },
    {
      "cell_type": "code",
      "metadata": {
        "colab": {
          "base_uri": "https://localhost:8080/"
        },
        "id": "kxonTVw3u8dg",
        "outputId": "5aeb67b2-1a33-48e4-f3b5-138b2dd27e38"
      },
      "source": [
        "train_data[features].info()"
      ],
      "execution_count": null,
      "outputs": [
        {
          "output_type": "stream",
          "text": [
            "<class 'pandas.core.frame.DataFrame'>\n",
            "RangeIndex: 891 entries, 0 to 890\n",
            "Data columns (total 7 columns):\n",
            " #   Column    Non-Null Count  Dtype  \n",
            "---  ------    --------------  -----  \n",
            " 0   Sex       891 non-null    int64  \n",
            " 1   Age       891 non-null    float64\n",
            " 2   SibSp     891 non-null    int64  \n",
            " 3   Parch     891 non-null    int64  \n",
            " 4   Fare      891 non-null    float64\n",
            " 5   Pclass    891 non-null    int64  \n",
            " 6   Embarked  891 non-null    int64  \n",
            "dtypes: float64(2), int64(5)\n",
            "memory usage: 48.9 KB\n"
          ],
          "name": "stdout"
        }
      ]
    },
    {
      "cell_type": "code",
      "metadata": {
        "colab": {
          "base_uri": "https://localhost:8080/"
        },
        "id": "zAI2_lDr0G_B",
        "outputId": "1883917c-4fd4-4e94-991a-520e74f89623"
      },
      "source": [
        "test_data[features].info()"
      ],
      "execution_count": null,
      "outputs": [
        {
          "output_type": "stream",
          "text": [
            "<class 'pandas.core.frame.DataFrame'>\n",
            "RangeIndex: 418 entries, 0 to 417\n",
            "Data columns (total 7 columns):\n",
            " #   Column    Non-Null Count  Dtype  \n",
            "---  ------    --------------  -----  \n",
            " 0   Sex       418 non-null    int64  \n",
            " 1   Age       418 non-null    float64\n",
            " 2   SibSp     418 non-null    int64  \n",
            " 3   Parch     418 non-null    int64  \n",
            " 4   Fare      418 non-null    float64\n",
            " 5   Pclass    418 non-null    int64  \n",
            " 6   Embarked  418 non-null    int64  \n",
            "dtypes: float64(2), int64(5)\n",
            "memory usage: 23.0 KB\n"
          ],
          "name": "stdout"
        }
      ]
    },
    {
      "cell_type": "markdown",
      "metadata": {
        "id": "0X3ciXBWwig7"
      },
      "source": [
        "#####Model"
      ]
    },
    {
      "cell_type": "code",
      "metadata": {
        "id": "96wHUDc9W70Y"
      },
      "source": [
        "model = Sequential()\n",
        "\n",
        "# model.add(Dense(64, activation='relu'))\n",
        "# model.add(Dropout(0.2))\n",
        "model.add(Dense(2, activation='softmax'))"
      ],
      "execution_count": 112,
      "outputs": []
    },
    {
      "cell_type": "code",
      "metadata": {
        "id": "myo4-PhtiQBl"
      },
      "source": [
        "model.compile(loss=keras.losses.binary_crossentropy, optimizer = keras.optimizers.Adam(learning_rate = 0.001), metrics=['accuracy'])"
      ],
      "execution_count": 113,
      "outputs": []
    },
    {
      "cell_type": "code",
      "metadata": {
        "colab": {
          "base_uri": "https://localhost:8080/"
        },
        "id": "_ZL8joBxiP-z",
        "outputId": "cf5bf609-e56b-4f5c-9e1d-01e1d0c160bf"
      },
      "source": [
        "history=model.fit(X_train,Y_train, batch_size=10, validation_data=(X_val,Y_val),epochs= 50)"
      ],
      "execution_count": 114,
      "outputs": [
        {
          "output_type": "stream",
          "text": [
            "Epoch 1/50\n",
            "77/77 [==============================] - 1s 4ms/step - loss: 5.8222 - accuracy: 0.5000 - val_loss: 4.7358 - val_accuracy: 0.5000\n",
            "Epoch 2/50\n",
            "77/77 [==============================] - 0s 3ms/step - loss: 4.2591 - accuracy: 0.5000 - val_loss: 3.5676 - val_accuracy: 0.5000\n",
            "Epoch 3/50\n",
            "77/77 [==============================] - 0s 4ms/step - loss: 3.1947 - accuracy: 0.5000 - val_loss: 2.5994 - val_accuracy: 0.4939\n",
            "Epoch 4/50\n",
            "77/77 [==============================] - 0s 3ms/step - loss: 2.2317 - accuracy: 0.4831 - val_loss: 1.6944 - val_accuracy: 0.4788\n",
            "Epoch 5/50\n",
            "77/77 [==============================] - 0s 3ms/step - loss: 1.4540 - accuracy: 0.5156 - val_loss: 1.1096 - val_accuracy: 0.6030\n",
            "Epoch 6/50\n",
            "77/77 [==============================] - 0s 3ms/step - loss: 1.0626 - accuracy: 0.6068 - val_loss: 0.8871 - val_accuracy: 0.6273\n",
            "Epoch 7/50\n",
            "77/77 [==============================] - 0s 3ms/step - loss: 0.9250 - accuracy: 0.6068 - val_loss: 0.8164 - val_accuracy: 0.6303\n",
            "Epoch 8/50\n",
            "77/77 [==============================] - 0s 3ms/step - loss: 0.8633 - accuracy: 0.6081 - val_loss: 0.7712 - val_accuracy: 0.6273\n",
            "Epoch 9/50\n",
            "77/77 [==============================] - 0s 3ms/step - loss: 0.8216 - accuracy: 0.5990 - val_loss: 0.7446 - val_accuracy: 0.6333\n",
            "Epoch 10/50\n",
            "77/77 [==============================] - 0s 3ms/step - loss: 0.7894 - accuracy: 0.6042 - val_loss: 0.7269 - val_accuracy: 0.6212\n",
            "Epoch 11/50\n",
            "77/77 [==============================] - 0s 3ms/step - loss: 0.7631 - accuracy: 0.6016 - val_loss: 0.7095 - val_accuracy: 0.6303\n",
            "Epoch 12/50\n",
            "77/77 [==============================] - 0s 3ms/step - loss: 0.7424 - accuracy: 0.5964 - val_loss: 0.6999 - val_accuracy: 0.6273\n",
            "Epoch 13/50\n",
            "77/77 [==============================] - 0s 3ms/step - loss: 0.7253 - accuracy: 0.6133 - val_loss: 0.6835 - val_accuracy: 0.6485\n",
            "Epoch 14/50\n",
            "77/77 [==============================] - 0s 3ms/step - loss: 0.7090 - accuracy: 0.6120 - val_loss: 0.6734 - val_accuracy: 0.6424\n",
            "Epoch 15/50\n",
            "77/77 [==============================] - 0s 3ms/step - loss: 0.6927 - accuracy: 0.6172 - val_loss: 0.6574 - val_accuracy: 0.6515\n",
            "Epoch 16/50\n",
            "77/77 [==============================] - 0s 3ms/step - loss: 0.6778 - accuracy: 0.6328 - val_loss: 0.6456 - val_accuracy: 0.6576\n",
            "Epoch 17/50\n",
            "77/77 [==============================] - 0s 3ms/step - loss: 0.6634 - accuracy: 0.6393 - val_loss: 0.6359 - val_accuracy: 0.6636\n",
            "Epoch 18/50\n",
            "77/77 [==============================] - 0s 3ms/step - loss: 0.6517 - accuracy: 0.6432 - val_loss: 0.6271 - val_accuracy: 0.6667\n",
            "Epoch 19/50\n",
            "77/77 [==============================] - 0s 3ms/step - loss: 0.6401 - accuracy: 0.6615 - val_loss: 0.6164 - val_accuracy: 0.6727\n",
            "Epoch 20/50\n",
            "77/77 [==============================] - 0s 3ms/step - loss: 0.6300 - accuracy: 0.6771 - val_loss: 0.6054 - val_accuracy: 0.6879\n",
            "Epoch 21/50\n",
            "77/77 [==============================] - 0s 3ms/step - loss: 0.6188 - accuracy: 0.7005 - val_loss: 0.5977 - val_accuracy: 0.6879\n",
            "Epoch 22/50\n",
            "77/77 [==============================] - 0s 3ms/step - loss: 0.6085 - accuracy: 0.6914 - val_loss: 0.5942 - val_accuracy: 0.6848\n",
            "Epoch 23/50\n",
            "77/77 [==============================] - 0s 3ms/step - loss: 0.6027 - accuracy: 0.7109 - val_loss: 0.5848 - val_accuracy: 0.6909\n",
            "Epoch 24/50\n",
            "77/77 [==============================] - 0s 3ms/step - loss: 0.5980 - accuracy: 0.7070 - val_loss: 0.5789 - val_accuracy: 0.7091\n",
            "Epoch 25/50\n",
            "77/77 [==============================] - 0s 3ms/step - loss: 0.5894 - accuracy: 0.7331 - val_loss: 0.5806 - val_accuracy: 0.7273\n",
            "Epoch 26/50\n",
            "77/77 [==============================] - 0s 3ms/step - loss: 0.5769 - accuracy: 0.7487 - val_loss: 0.5628 - val_accuracy: 0.7091\n",
            "Epoch 27/50\n",
            "77/77 [==============================] - 0s 3ms/step - loss: 0.5706 - accuracy: 0.7578 - val_loss: 0.5612 - val_accuracy: 0.7242\n",
            "Epoch 28/50\n",
            "77/77 [==============================] - 0s 3ms/step - loss: 0.5665 - accuracy: 0.7422 - val_loss: 0.5675 - val_accuracy: 0.7545\n",
            "Epoch 29/50\n",
            "77/77 [==============================] - 0s 3ms/step - loss: 0.5598 - accuracy: 0.7539 - val_loss: 0.5500 - val_accuracy: 0.7273\n",
            "Epoch 30/50\n",
            "77/77 [==============================] - 0s 3ms/step - loss: 0.5537 - accuracy: 0.7734 - val_loss: 0.5474 - val_accuracy: 0.7606\n",
            "Epoch 31/50\n",
            "77/77 [==============================] - 0s 3ms/step - loss: 0.5517 - accuracy: 0.7695 - val_loss: 0.5426 - val_accuracy: 0.7455\n",
            "Epoch 32/50\n",
            "77/77 [==============================] - 0s 3ms/step - loss: 0.5475 - accuracy: 0.7643 - val_loss: 0.5389 - val_accuracy: 0.7576\n",
            "Epoch 33/50\n",
            "77/77 [==============================] - 0s 3ms/step - loss: 0.5411 - accuracy: 0.7669 - val_loss: 0.5411 - val_accuracy: 0.7879\n",
            "Epoch 34/50\n",
            "77/77 [==============================] - 0s 3ms/step - loss: 0.5379 - accuracy: 0.7695 - val_loss: 0.5336 - val_accuracy: 0.7576\n",
            "Epoch 35/50\n",
            "77/77 [==============================] - 0s 3ms/step - loss: 0.5365 - accuracy: 0.7747 - val_loss: 0.5315 - val_accuracy: 0.7909\n",
            "Epoch 36/50\n",
            "77/77 [==============================] - 0s 3ms/step - loss: 0.5305 - accuracy: 0.7747 - val_loss: 0.5280 - val_accuracy: 0.7515\n",
            "Epoch 37/50\n",
            "77/77 [==============================] - 0s 3ms/step - loss: 0.5288 - accuracy: 0.7669 - val_loss: 0.5306 - val_accuracy: 0.7818\n",
            "Epoch 38/50\n",
            "77/77 [==============================] - 0s 4ms/step - loss: 0.5248 - accuracy: 0.7747 - val_loss: 0.5228 - val_accuracy: 0.7758\n",
            "Epoch 39/50\n",
            "77/77 [==============================] - 0s 3ms/step - loss: 0.5217 - accuracy: 0.7734 - val_loss: 0.5197 - val_accuracy: 0.7727\n",
            "Epoch 40/50\n",
            "77/77 [==============================] - 0s 3ms/step - loss: 0.5191 - accuracy: 0.7760 - val_loss: 0.5211 - val_accuracy: 0.7848\n",
            "Epoch 41/50\n",
            "77/77 [==============================] - 0s 3ms/step - loss: 0.5175 - accuracy: 0.7708 - val_loss: 0.5164 - val_accuracy: 0.7727\n",
            "Epoch 42/50\n",
            "77/77 [==============================] - 0s 3ms/step - loss: 0.5150 - accuracy: 0.7734 - val_loss: 0.5157 - val_accuracy: 0.7818\n",
            "Epoch 43/50\n",
            "77/77 [==============================] - 0s 3ms/step - loss: 0.5134 - accuracy: 0.7721 - val_loss: 0.5178 - val_accuracy: 0.7788\n",
            "Epoch 44/50\n",
            "77/77 [==============================] - 0s 3ms/step - loss: 0.5107 - accuracy: 0.7708 - val_loss: 0.5125 - val_accuracy: 0.7788\n",
            "Epoch 45/50\n",
            "77/77 [==============================] - 0s 3ms/step - loss: 0.5104 - accuracy: 0.7786 - val_loss: 0.5111 - val_accuracy: 0.7697\n",
            "Epoch 46/50\n",
            "77/77 [==============================] - 0s 3ms/step - loss: 0.5070 - accuracy: 0.7695 - val_loss: 0.5086 - val_accuracy: 0.7576\n",
            "Epoch 47/50\n",
            "77/77 [==============================] - 0s 3ms/step - loss: 0.5069 - accuracy: 0.7708 - val_loss: 0.5079 - val_accuracy: 0.7818\n",
            "Epoch 48/50\n",
            "77/77 [==============================] - 0s 3ms/step - loss: 0.5068 - accuracy: 0.7734 - val_loss: 0.5071 - val_accuracy: 0.7788\n",
            "Epoch 49/50\n",
            "77/77 [==============================] - 0s 3ms/step - loss: 0.5031 - accuracy: 0.7682 - val_loss: 0.5067 - val_accuracy: 0.7818\n",
            "Epoch 50/50\n",
            "77/77 [==============================] - 0s 3ms/step - loss: 0.5003 - accuracy: 0.7734 - val_loss: 0.5067 - val_accuracy: 0.7788\n"
          ],
          "name": "stdout"
        }
      ]
    },
    {
      "cell_type": "code",
      "metadata": {
        "id": "x-mR-mnuUL_j"
      },
      "source": [
        ""
      ],
      "execution_count": null,
      "outputs": []
    },
    {
      "cell_type": "markdown",
      "metadata": {
        "id": "p5fBT1M4wnu5"
      },
      "source": [
        "#####TUTORIAL_MODEL"
      ]
    },
    {
      "cell_type": "code",
      "metadata": {
        "colab": {
          "base_uri": "https://localhost:8080/"
        },
        "id": "3Donz9PriP1m",
        "outputId": "024c4989-2039-48a5-c577-482aa0e51639"
      },
      "source": [
        "from sklearn.ensemble import RandomForestClassifier\n",
        "tutorial_model = RandomForestClassifier(n_estimators=100, max_depth=10)\n",
        "\n",
        "# for testing acc\n",
        "tutorial_model.fit(X_train, Y_train)\n",
        "'random forest acc:', round(tutorial_model.score(X_val, Y_val) * 100, 2)"
      ],
      "execution_count": 117,
      "outputs": [
        {
          "output_type": "execute_result",
          "data": {
            "text/plain": [
              "('random forest acc:', 83.33)"
            ]
          },
          "metadata": {
            "tags": []
          },
          "execution_count": 117
        }
      ]
    },
    {
      "cell_type": "markdown",
      "metadata": {
        "id": "6n2nLGa8ZVI-"
      },
      "source": [
        "#####Output"
      ]
    },
    {
      "cell_type": "code",
      "metadata": {
        "id": "8VfrpOPFnRGD"
      },
      "source": [
        "X_test = pd.get_dummies(test_data[features])\n",
        "# NN predictions\n",
        "output_predictions = (model.predict(X_test) > 0.5).astype(\"int32\").T[0].T[1].astype(int)\n",
        "# RandomForestClassifier predictions\n",
        "tutorial_model.fit(X, Y)\n",
        "tutorial_predictions = tutorial_model.predict(X_test)\n",
        "output_predictions = tutorial_model.predict(X_test).T[1].astype(int)\n",
        "\n",
        "output = pd.DataFrame({'PassengerId': test_data.PassengerId, 'Survived': output_predictions})"
      ],
      "execution_count": 118,
      "outputs": []
    },
    {
      "cell_type": "code",
      "metadata": {
        "id": "nCaLbxKonTWK"
      },
      "source": [
        "OUTPUTH_FILE_PATH = '/content/drive/MyDrive/kaggle/titanic/my_submission.csv'\n",
        "output.to_csv(OUTPUTH_FILE_PATH, index=False)"
      ],
      "execution_count": 119,
      "outputs": []
    },
    {
      "cell_type": "code",
      "metadata": {
        "id": "fjbp5toH5h8U"
      },
      "source": [
        ""
      ],
      "execution_count": 109,
      "outputs": []
    }
  ]
}