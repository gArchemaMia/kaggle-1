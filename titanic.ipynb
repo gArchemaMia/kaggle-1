{
  "nbformat": 4,
  "nbformat_minor": 0,
  "metadata": {
    "colab": {
      "name": "titanic.ipynb",
      "provenance": [],
      "collapsed_sections": [
        "cMTSw3v7Vf8s",
        "Y_Y9fFktw-yi",
        "0X3ciXBWwig7"
      ],
      "include_colab_link": true
    },
    "kernelspec": {
      "name": "python3",
      "display_name": "Python 3"
    },
    "language_info": {
      "name": "python"
    },
    "accelerator": "GPU"
  },
  "cells": [
    {
      "cell_type": "markdown",
      "metadata": {
        "id": "view-in-github",
        "colab_type": "text"
      },
      "source": [
        "<a href=\"https://colab.research.google.com/github/gArchemaMia/kaggle-1/blob/master/titanic.ipynb\" target=\"_parent\"><img src=\"https://colab.research.google.com/assets/colab-badge.svg\" alt=\"Open In Colab\"/></a>"
      ]
    },
    {
      "cell_type": "code",
      "metadata": {
        "colab": {
          "base_uri": "https://localhost:8080/"
        },
        "id": "oBvDMU4hVSJo",
        "outputId": "561ec379-6e42-4323-e110-e94b577a4c65"
      },
      "source": [
        "from google.colab import drive\n",
        "drive.mount('/content/drive')"
      ],
      "execution_count": 1,
      "outputs": [
        {
          "output_type": "stream",
          "text": [
            "Mounted at /content/drive\n"
          ],
          "name": "stdout"
        }
      ]
    },
    {
      "cell_type": "markdown",
      "metadata": {
        "id": "cMTSw3v7Vf8s"
      },
      "source": [
        "#####import"
      ]
    },
    {
      "cell_type": "code",
      "metadata": {
        "id": "iVs-gzbzVmPz"
      },
      "source": [
        "import numpy as np \n",
        "import pandas as pd\n",
        "from sklearn import metrics\n",
        "from sklearn.multiclass import OneVsRestClassifier\n",
        "from imblearn.over_sampling import SMOTE\n",
        "from tensorflow import keras\n",
        "from tensorflow.keras.layers import Dense,Dropout\n",
        "from tensorflow.keras.models import Sequential\n",
        "from tensorflow.keras.wrappers.scikit_learn import KerasClassifier, KerasRegressor\n",
        "import matplotlib.pyplot as plt\n",
        "\n",
        "from sklearn.model_selection import train_test_split"
      ],
      "execution_count": 132,
      "outputs": []
    },
    {
      "cell_type": "code",
      "metadata": {
        "id": "q_DqUfiEVm0B"
      },
      "source": [
        "TRAIN_DATA_PATH = '/content/drive/MyDrive/kaggle/titanic/train.csv'\n",
        "TEST_DATA_PATH = '/content/drive/MyDrive/kaggle/titanic/test.csv'"
      ],
      "execution_count": 3,
      "outputs": []
    },
    {
      "cell_type": "code",
      "metadata": {
        "id": "jCIQvNx7VmkS",
        "colab": {
          "base_uri": "https://localhost:8080/",
          "height": 204
        },
        "outputId": "81fc1d19-4f31-47b7-a8f4-62e834980d14"
      },
      "source": [
        "train_data = pd.read_csv(TRAIN_DATA_PATH)\n",
        "train_data.head()"
      ],
      "execution_count": 4,
      "outputs": [
        {
          "output_type": "execute_result",
          "data": {
            "text/html": [
              "<div>\n",
              "<style scoped>\n",
              "    .dataframe tbody tr th:only-of-type {\n",
              "        vertical-align: middle;\n",
              "    }\n",
              "\n",
              "    .dataframe tbody tr th {\n",
              "        vertical-align: top;\n",
              "    }\n",
              "\n",
              "    .dataframe thead th {\n",
              "        text-align: right;\n",
              "    }\n",
              "</style>\n",
              "<table border=\"1\" class=\"dataframe\">\n",
              "  <thead>\n",
              "    <tr style=\"text-align: right;\">\n",
              "      <th></th>\n",
              "      <th>PassengerId</th>\n",
              "      <th>Survived</th>\n",
              "      <th>Pclass</th>\n",
              "      <th>Name</th>\n",
              "      <th>Sex</th>\n",
              "      <th>Age</th>\n",
              "      <th>SibSp</th>\n",
              "      <th>Parch</th>\n",
              "      <th>Ticket</th>\n",
              "      <th>Fare</th>\n",
              "      <th>Cabin</th>\n",
              "      <th>Embarked</th>\n",
              "    </tr>\n",
              "  </thead>\n",
              "  <tbody>\n",
              "    <tr>\n",
              "      <th>0</th>\n",
              "      <td>1</td>\n",
              "      <td>0</td>\n",
              "      <td>3</td>\n",
              "      <td>Braund, Mr. Owen Harris</td>\n",
              "      <td>male</td>\n",
              "      <td>22.0</td>\n",
              "      <td>1</td>\n",
              "      <td>0</td>\n",
              "      <td>A/5 21171</td>\n",
              "      <td>7.2500</td>\n",
              "      <td>NaN</td>\n",
              "      <td>S</td>\n",
              "    </tr>\n",
              "    <tr>\n",
              "      <th>1</th>\n",
              "      <td>2</td>\n",
              "      <td>1</td>\n",
              "      <td>1</td>\n",
              "      <td>Cumings, Mrs. John Bradley (Florence Briggs Th...</td>\n",
              "      <td>female</td>\n",
              "      <td>38.0</td>\n",
              "      <td>1</td>\n",
              "      <td>0</td>\n",
              "      <td>PC 17599</td>\n",
              "      <td>71.2833</td>\n",
              "      <td>C85</td>\n",
              "      <td>C</td>\n",
              "    </tr>\n",
              "    <tr>\n",
              "      <th>2</th>\n",
              "      <td>3</td>\n",
              "      <td>1</td>\n",
              "      <td>3</td>\n",
              "      <td>Heikkinen, Miss. Laina</td>\n",
              "      <td>female</td>\n",
              "      <td>26.0</td>\n",
              "      <td>0</td>\n",
              "      <td>0</td>\n",
              "      <td>STON/O2. 3101282</td>\n",
              "      <td>7.9250</td>\n",
              "      <td>NaN</td>\n",
              "      <td>S</td>\n",
              "    </tr>\n",
              "    <tr>\n",
              "      <th>3</th>\n",
              "      <td>4</td>\n",
              "      <td>1</td>\n",
              "      <td>1</td>\n",
              "      <td>Futrelle, Mrs. Jacques Heath (Lily May Peel)</td>\n",
              "      <td>female</td>\n",
              "      <td>35.0</td>\n",
              "      <td>1</td>\n",
              "      <td>0</td>\n",
              "      <td>113803</td>\n",
              "      <td>53.1000</td>\n",
              "      <td>C123</td>\n",
              "      <td>S</td>\n",
              "    </tr>\n",
              "    <tr>\n",
              "      <th>4</th>\n",
              "      <td>5</td>\n",
              "      <td>0</td>\n",
              "      <td>3</td>\n",
              "      <td>Allen, Mr. William Henry</td>\n",
              "      <td>male</td>\n",
              "      <td>35.0</td>\n",
              "      <td>0</td>\n",
              "      <td>0</td>\n",
              "      <td>373450</td>\n",
              "      <td>8.0500</td>\n",
              "      <td>NaN</td>\n",
              "      <td>S</td>\n",
              "    </tr>\n",
              "  </tbody>\n",
              "</table>\n",
              "</div>"
            ],
            "text/plain": [
              "   PassengerId  Survived  Pclass  ...     Fare Cabin  Embarked\n",
              "0            1         0       3  ...   7.2500   NaN         S\n",
              "1            2         1       1  ...  71.2833   C85         C\n",
              "2            3         1       3  ...   7.9250   NaN         S\n",
              "3            4         1       1  ...  53.1000  C123         S\n",
              "4            5         0       3  ...   8.0500   NaN         S\n",
              "\n",
              "[5 rows x 12 columns]"
            ]
          },
          "metadata": {
            "tags": []
          },
          "execution_count": 4
        }
      ]
    },
    {
      "cell_type": "code",
      "metadata": {
        "colab": {
          "base_uri": "https://localhost:8080/"
        },
        "id": "dKEt2cM7ptIB",
        "outputId": "5eecf932-dad1-41c8-dfab-f53ecdd89b81"
      },
      "source": [
        "train_data.info()"
      ],
      "execution_count": null,
      "outputs": [
        {
          "output_type": "stream",
          "text": [
            "<class 'pandas.core.frame.DataFrame'>\n",
            "RangeIndex: 891 entries, 0 to 890\n",
            "Data columns (total 12 columns):\n",
            " #   Column       Non-Null Count  Dtype  \n",
            "---  ------       --------------  -----  \n",
            " 0   PassengerId  891 non-null    int64  \n",
            " 1   Survived     891 non-null    int64  \n",
            " 2   Pclass       891 non-null    int64  \n",
            " 3   Name         891 non-null    object \n",
            " 4   Sex          891 non-null    object \n",
            " 5   Age          714 non-null    float64\n",
            " 6   SibSp        891 non-null    int64  \n",
            " 7   Parch        891 non-null    int64  \n",
            " 8   Ticket       891 non-null    object \n",
            " 9   Fare         891 non-null    float64\n",
            " 10  Cabin        204 non-null    object \n",
            " 11  Embarked     889 non-null    object \n",
            "dtypes: float64(2), int64(5), object(5)\n",
            "memory usage: 83.7+ KB\n"
          ],
          "name": "stdout"
        }
      ]
    },
    {
      "cell_type": "code",
      "metadata": {
        "colab": {
          "base_uri": "https://localhost:8080/",
          "height": 204
        },
        "id": "lsYOrJxmW8DQ",
        "outputId": "de5c97f8-519d-4780-bcda-498cf4303993"
      },
      "source": [
        "test_data = pd.read_csv(TEST_DATA_PATH)\n",
        "test_data.head()"
      ],
      "execution_count": 5,
      "outputs": [
        {
          "output_type": "execute_result",
          "data": {
            "text/html": [
              "<div>\n",
              "<style scoped>\n",
              "    .dataframe tbody tr th:only-of-type {\n",
              "        vertical-align: middle;\n",
              "    }\n",
              "\n",
              "    .dataframe tbody tr th {\n",
              "        vertical-align: top;\n",
              "    }\n",
              "\n",
              "    .dataframe thead th {\n",
              "        text-align: right;\n",
              "    }\n",
              "</style>\n",
              "<table border=\"1\" class=\"dataframe\">\n",
              "  <thead>\n",
              "    <tr style=\"text-align: right;\">\n",
              "      <th></th>\n",
              "      <th>PassengerId</th>\n",
              "      <th>Pclass</th>\n",
              "      <th>Name</th>\n",
              "      <th>Sex</th>\n",
              "      <th>Age</th>\n",
              "      <th>SibSp</th>\n",
              "      <th>Parch</th>\n",
              "      <th>Ticket</th>\n",
              "      <th>Fare</th>\n",
              "      <th>Cabin</th>\n",
              "      <th>Embarked</th>\n",
              "    </tr>\n",
              "  </thead>\n",
              "  <tbody>\n",
              "    <tr>\n",
              "      <th>0</th>\n",
              "      <td>892</td>\n",
              "      <td>3</td>\n",
              "      <td>Kelly, Mr. James</td>\n",
              "      <td>male</td>\n",
              "      <td>34.5</td>\n",
              "      <td>0</td>\n",
              "      <td>0</td>\n",
              "      <td>330911</td>\n",
              "      <td>7.8292</td>\n",
              "      <td>NaN</td>\n",
              "      <td>Q</td>\n",
              "    </tr>\n",
              "    <tr>\n",
              "      <th>1</th>\n",
              "      <td>893</td>\n",
              "      <td>3</td>\n",
              "      <td>Wilkes, Mrs. James (Ellen Needs)</td>\n",
              "      <td>female</td>\n",
              "      <td>47.0</td>\n",
              "      <td>1</td>\n",
              "      <td>0</td>\n",
              "      <td>363272</td>\n",
              "      <td>7.0000</td>\n",
              "      <td>NaN</td>\n",
              "      <td>S</td>\n",
              "    </tr>\n",
              "    <tr>\n",
              "      <th>2</th>\n",
              "      <td>894</td>\n",
              "      <td>2</td>\n",
              "      <td>Myles, Mr. Thomas Francis</td>\n",
              "      <td>male</td>\n",
              "      <td>62.0</td>\n",
              "      <td>0</td>\n",
              "      <td>0</td>\n",
              "      <td>240276</td>\n",
              "      <td>9.6875</td>\n",
              "      <td>NaN</td>\n",
              "      <td>Q</td>\n",
              "    </tr>\n",
              "    <tr>\n",
              "      <th>3</th>\n",
              "      <td>895</td>\n",
              "      <td>3</td>\n",
              "      <td>Wirz, Mr. Albert</td>\n",
              "      <td>male</td>\n",
              "      <td>27.0</td>\n",
              "      <td>0</td>\n",
              "      <td>0</td>\n",
              "      <td>315154</td>\n",
              "      <td>8.6625</td>\n",
              "      <td>NaN</td>\n",
              "      <td>S</td>\n",
              "    </tr>\n",
              "    <tr>\n",
              "      <th>4</th>\n",
              "      <td>896</td>\n",
              "      <td>3</td>\n",
              "      <td>Hirvonen, Mrs. Alexander (Helga E Lindqvist)</td>\n",
              "      <td>female</td>\n",
              "      <td>22.0</td>\n",
              "      <td>1</td>\n",
              "      <td>1</td>\n",
              "      <td>3101298</td>\n",
              "      <td>12.2875</td>\n",
              "      <td>NaN</td>\n",
              "      <td>S</td>\n",
              "    </tr>\n",
              "  </tbody>\n",
              "</table>\n",
              "</div>"
            ],
            "text/plain": [
              "   PassengerId  Pclass  ... Cabin Embarked\n",
              "0          892       3  ...   NaN        Q\n",
              "1          893       3  ...   NaN        S\n",
              "2          894       2  ...   NaN        Q\n",
              "3          895       3  ...   NaN        S\n",
              "4          896       3  ...   NaN        S\n",
              "\n",
              "[5 rows x 11 columns]"
            ]
          },
          "metadata": {
            "tags": []
          },
          "execution_count": 5
        }
      ]
    },
    {
      "cell_type": "code",
      "metadata": {
        "colab": {
          "base_uri": "https://localhost:8080/"
        },
        "id": "Hef5d6fZp1_f",
        "outputId": "80875004-958f-4629-ae1b-e51f8f3d3e18"
      },
      "source": [
        "test_data.info()"
      ],
      "execution_count": null,
      "outputs": [
        {
          "output_type": "stream",
          "text": [
            "<class 'pandas.core.frame.DataFrame'>\n",
            "RangeIndex: 418 entries, 0 to 417\n",
            "Data columns (total 11 columns):\n",
            " #   Column       Non-Null Count  Dtype  \n",
            "---  ------       --------------  -----  \n",
            " 0   PassengerId  418 non-null    int64  \n",
            " 1   Pclass       418 non-null    int64  \n",
            " 2   Name         418 non-null    object \n",
            " 3   Sex          418 non-null    object \n",
            " 4   Age          332 non-null    float64\n",
            " 5   SibSp        418 non-null    int64  \n",
            " 6   Parch        418 non-null    int64  \n",
            " 7   Ticket       418 non-null    object \n",
            " 8   Fare         417 non-null    float64\n",
            " 9   Cabin        91 non-null     object \n",
            " 10  Embarked     418 non-null    object \n",
            "dtypes: float64(2), int64(4), object(5)\n",
            "memory usage: 36.0+ KB\n"
          ],
          "name": "stdout"
        }
      ]
    },
    {
      "cell_type": "markdown",
      "metadata": {
        "id": "Y_Y9fFktw-yi"
      },
      "source": [
        "#####Choose Features"
      ]
    },
    {
      "cell_type": "code",
      "metadata": {
        "colab": {
          "base_uri": "https://localhost:8080/",
          "height": 265
        },
        "id": "wOkb7Rt_aMav",
        "outputId": "7dfe5313-80bc-4ddf-909b-5867dc0145e7"
      },
      "source": [
        "train_data['Survived'].value_counts().plot.pie(explode=[0,0.1],shadow=True)"
      ],
      "execution_count": null,
      "outputs": [
        {
          "output_type": "execute_result",
          "data": {
            "text/plain": [
              "<matplotlib.axes._subplots.AxesSubplot at 0x7fbf2c1bec90>"
            ]
          },
          "metadata": {
            "tags": []
          },
          "execution_count": 33
        },
        {
          "output_type": "display_data",
          "data": {
            "image/png": "[encoded data removed]",
            "text/plain": [
              "<Figure size 432x288 with 1 Axes>"
            ]
          },
          "metadata": {
            "tags": []
          }
        }
      ]
    },
    {
      "cell_type": "code",
      "metadata": {
        "id": "b74MWMvuW8Aw"
      },
      "source": [
        "features = ['Sex', 'Age', 'SibSp', 'Parch', 'Fare', 'Pclass', 'Embarked']\n",
        "\n",
        "train_data['Age'] = train_data['Age'].replace(np.NaN, train_data['Age'].dropna().mean())\n",
        "test_data['Age']  = test_data['Age'].replace(np.NaN, test_data['Age'].dropna().mean())\n",
        "test_data['Fare']  = test_data['Fare'].replace(np.NaN, test_data['Fare'].dropna().mean())\n",
        "\n",
        "train_data['Embarked'] = train_data['Embarked'].fillna(train_data['Embarked'].dropna().mode()[0])\n",
        "train_data['Embarked'] = train_data['Embarked'].map( {'S': 0, 'C': 1, 'Q': 2} ).astype(int)\n",
        "test_data['Embarked']  = test_data['Embarked'].fillna(test_data['Embarked'].dropna().mode()[0])\n",
        "test_data['Embarked'] = test_data['Embarked'].map( {'S': 0, 'C': 1, 'Q': 2} ).astype(int)\n",
        "\n",
        "train_data['Sex'] = train_data['Sex'].map( {'female': 1, 'male': 0} )\n",
        "test_data['Sex']  = test_data['Sex'].map( {'female': 1, 'male': 0} )\n",
        "\n",
        "train_filtered = train_data[features + ['Survived']]\n",
        "X = pd.get_dummies(train_filtered[features])\n",
        "Y = train_filtered['Survived']"
      ],
      "execution_count": 6,
      "outputs": []
    },
    {
      "cell_type": "code",
      "metadata": {
        "colab": {
          "base_uri": "https://localhost:8080/"
        },
        "id": "9Yx3rvnQw7ja",
        "outputId": "ca62bef9-5a47-487c-b6e2-23b41e81c193"
      },
      "source": [
        "over_sampler = SMOTE()\n",
        "X, Y = over_sampler.fit_resample(X, Y)\n",
        "\n",
        "X=np.array(X)\n",
        "Y=keras.utils.to_categorical(np.array(Y))"
      ],
      "execution_count": 7,
      "outputs": [
        {
          "output_type": "stream",
          "text": [
            "/usr/local/lib/python3.7/dist-packages/sklearn/utils/deprecation.py:87: FutureWarning: Function safe_indexing is deprecated; safe_indexing is deprecated in version 0.22 and will be removed in version 0.24.\n",
            "  warnings.warn(msg, category=FutureWarning)\n"
          ],
          "name": "stderr"
        }
      ]
    },
    {
      "cell_type": "code",
      "metadata": {
        "colab": {
          "base_uri": "https://localhost:8080/",
          "height": 266
        },
        "id": "FGm0j4KxeSjb",
        "outputId": "5642697c-2e1c-4f80-d535-3b3700d11349"
      },
      "source": [
        "pd.DataFrame(Y).value_counts().plot.pie(explode=[0,0.1],shadow=True)"
      ],
      "execution_count": null,
      "outputs": [
        {
          "output_type": "execute_result",
          "data": {
            "text/plain": [
              "<matplotlib.axes._subplots.AxesSubplot at 0x7f1d2bbf3950>"
            ]
          },
          "metadata": {
            "tags": []
          },
          "execution_count": 45
        },
        {
          "output_type": "display_data",
          "data": {
            "image/png": "[encoded data removed]",
            "text/plain": [
              "<Figure size 432x288 with 1 Axes>"
            ]
          },
          "metadata": {
            "tags": []
          }
        }
      ]
    },
    {
      "cell_type": "code",
      "metadata": {
        "colab": {
          "base_uri": "https://localhost:8080/"
        },
        "id": "9n8H6d6oW7-B",
        "outputId": "fbc387ab-1bb2-44a2-cc7f-701391dad08c"
      },
      "source": [
        "X_train, X_val, Y_train, Y_val = train_test_split(X, Y, test_size=0.3, random_state=42)\n",
        "X_train.shape"
      ],
      "execution_count": 8,
      "outputs": [
        {
          "output_type": "execute_result",
          "data": {
            "text/plain": [
              "(768, 7)"
            ]
          },
          "metadata": {
            "tags": []
          },
          "execution_count": 8
        }
      ]
    },
    {
      "cell_type": "code",
      "metadata": {
        "colab": {
          "base_uri": "https://localhost:8080/"
        },
        "id": "kxonTVw3u8dg",
        "outputId": "5aeb67b2-1a33-48e4-f3b5-138b2dd27e38"
      },
      "source": [
        "train_data[features].info()"
      ],
      "execution_count": null,
      "outputs": [
        {
          "output_type": "stream",
          "text": [
            "<class 'pandas.core.frame.DataFrame'>\n",
            "RangeIndex: 891 entries, 0 to 890\n",
            "Data columns (total 7 columns):\n",
            " #   Column    Non-Null Count  Dtype  \n",
            "---  ------    --------------  -----  \n",
            " 0   Sex       891 non-null    int64  \n",
            " 1   Age       891 non-null    float64\n",
            " 2   SibSp     891 non-null    int64  \n",
            " 3   Parch     891 non-null    int64  \n",
            " 4   Fare      891 non-null    float64\n",
            " 5   Pclass    891 non-null    int64  \n",
            " 6   Embarked  891 non-null    int64  \n",
            "dtypes: float64(2), int64(5)\n",
            "memory usage: 48.9 KB\n"
          ],
          "name": "stdout"
        }
      ]
    },
    {
      "cell_type": "code",
      "metadata": {
        "colab": {
          "base_uri": "https://localhost:8080/"
        },
        "id": "zAI2_lDr0G_B",
        "outputId": "1883917c-4fd4-4e94-991a-520e74f89623"
      },
      "source": [
        "test_data[features].info()"
      ],
      "execution_count": null,
      "outputs": [
        {
          "output_type": "stream",
          "text": [
            "<class 'pandas.core.frame.DataFrame'>\n",
            "RangeIndex: 418 entries, 0 to 417\n",
            "Data columns (total 7 columns):\n",
            " #   Column    Non-Null Count  Dtype  \n",
            "---  ------    --------------  -----  \n",
            " 0   Sex       418 non-null    int64  \n",
            " 1   Age       418 non-null    float64\n",
            " 2   SibSp     418 non-null    int64  \n",
            " 3   Parch     418 non-null    int64  \n",
            " 4   Fare      418 non-null    float64\n",
            " 5   Pclass    418 non-null    int64  \n",
            " 6   Embarked  418 non-null    int64  \n",
            "dtypes: float64(2), int64(5)\n",
            "memory usage: 23.0 KB\n"
          ],
          "name": "stdout"
        }
      ]
    },
    {
      "cell_type": "markdown",
      "metadata": {
        "id": "0X3ciXBWwig7"
      },
      "source": [
        "#####Model"
      ]
    },
    {
      "cell_type": "code",
      "metadata": {
        "id": "96wHUDc9W70Y"
      },
      "source": [
        "model = Sequential()\n",
        "\n",
        "# model.add(Dense(64, activation='relu'))\n",
        "# model.add(Dropout(0.2))\n",
        "model.add(Dense(2, activation='softmax'))"
      ],
      "execution_count": 25,
      "outputs": []
    },
    {
      "cell_type": "code",
      "metadata": {
        "id": "myo4-PhtiQBl"
      },
      "source": [
        "model.compile(loss=keras.losses.binary_crossentropy, optimizer = keras.optimizers.Adam(learning_rate = 0.001), metrics=['accuracy'])"
      ],
      "execution_count": 26,
      "outputs": []
    },
    {
      "cell_type": "code",
      "metadata": {
        "colab": {
          "base_uri": "https://localhost:8080/"
        },
        "id": "_ZL8joBxiP-z",
        "outputId": "799e1528-2c7a-4dd7-a8fb-0e3ebfe7fe2e"
      },
      "source": [
        "history=model.fit(X_train,Y_train, batch_size=10, validation_data=(X_val,Y_val),epochs= 50)"
      ],
      "execution_count": 131,
      "outputs": [
        {
          "output_type": "stream",
          "text": [
            "Epoch 1/50\n",
            "77/77 [==============================] - 0s 3ms/step - loss: 0.4857 - accuracy: 0.7799 - val_loss: 0.4801 - val_accuracy: 0.7758\n",
            "Epoch 2/50\n",
            "77/77 [==============================] - 0s 3ms/step - loss: 0.4842 - accuracy: 0.7812 - val_loss: 0.4811 - val_accuracy: 0.7818\n",
            "Epoch 3/50\n",
            "77/77 [==============================] - 0s 2ms/step - loss: 0.4840 - accuracy: 0.7799 - val_loss: 0.4769 - val_accuracy: 0.7758\n",
            "Epoch 4/50\n",
            "77/77 [==============================] - 0s 3ms/step - loss: 0.4815 - accuracy: 0.7852 - val_loss: 0.4786 - val_accuracy: 0.7788\n",
            "Epoch 5/50\n",
            "77/77 [==============================] - 0s 2ms/step - loss: 0.4819 - accuracy: 0.7839 - val_loss: 0.4767 - val_accuracy: 0.7788\n",
            "Epoch 6/50\n",
            "77/77 [==============================] - 0s 3ms/step - loss: 0.4839 - accuracy: 0.7760 - val_loss: 0.4761 - val_accuracy: 0.7788\n",
            "Epoch 7/50\n",
            "77/77 [==============================] - 0s 3ms/step - loss: 0.4794 - accuracy: 0.7839 - val_loss: 0.4746 - val_accuracy: 0.7758\n",
            "Epoch 8/50\n",
            "77/77 [==============================] - 0s 3ms/step - loss: 0.4803 - accuracy: 0.7826 - val_loss: 0.4754 - val_accuracy: 0.7788\n",
            "Epoch 9/50\n",
            "77/77 [==============================] - 0s 3ms/step - loss: 0.4800 - accuracy: 0.7799 - val_loss: 0.4737 - val_accuracy: 0.7758\n",
            "Epoch 10/50\n",
            "77/77 [==============================] - 0s 3ms/step - loss: 0.4776 - accuracy: 0.7839 - val_loss: 0.4737 - val_accuracy: 0.7788\n",
            "Epoch 11/50\n",
            "77/77 [==============================] - 0s 3ms/step - loss: 0.4777 - accuracy: 0.7826 - val_loss: 0.4721 - val_accuracy: 0.7818\n",
            "Epoch 12/50\n",
            "77/77 [==============================] - 0s 3ms/step - loss: 0.4756 - accuracy: 0.7826 - val_loss: 0.4704 - val_accuracy: 0.7758\n",
            "Epoch 13/50\n",
            "77/77 [==============================] - 0s 3ms/step - loss: 0.4794 - accuracy: 0.7878 - val_loss: 0.4705 - val_accuracy: 0.7758\n",
            "Epoch 14/50\n",
            "77/77 [==============================] - 0s 3ms/step - loss: 0.4774 - accuracy: 0.7826 - val_loss: 0.4692 - val_accuracy: 0.7758\n",
            "Epoch 15/50\n",
            "77/77 [==============================] - 0s 3ms/step - loss: 0.4746 - accuracy: 0.7773 - val_loss: 0.4728 - val_accuracy: 0.7818\n",
            "Epoch 16/50\n",
            "77/77 [==============================] - 0s 3ms/step - loss: 0.4768 - accuracy: 0.7799 - val_loss: 0.4801 - val_accuracy: 0.7758\n",
            "Epoch 17/50\n",
            "77/77 [==============================] - 0s 3ms/step - loss: 0.4727 - accuracy: 0.7826 - val_loss: 0.4682 - val_accuracy: 0.7788\n",
            "Epoch 18/50\n",
            "77/77 [==============================] - 0s 3ms/step - loss: 0.4757 - accuracy: 0.7786 - val_loss: 0.4679 - val_accuracy: 0.7758\n",
            "Epoch 19/50\n",
            "77/77 [==============================] - 0s 3ms/step - loss: 0.4731 - accuracy: 0.7812 - val_loss: 0.4686 - val_accuracy: 0.7727\n",
            "Epoch 20/50\n",
            "77/77 [==============================] - 0s 3ms/step - loss: 0.4712 - accuracy: 0.7839 - val_loss: 0.4807 - val_accuracy: 0.7727\n",
            "Epoch 21/50\n",
            "77/77 [==============================] - 0s 3ms/step - loss: 0.4768 - accuracy: 0.7773 - val_loss: 0.4701 - val_accuracy: 0.7818\n",
            "Epoch 22/50\n",
            "77/77 [==============================] - 0s 3ms/step - loss: 0.4730 - accuracy: 0.7865 - val_loss: 0.4663 - val_accuracy: 0.7818\n",
            "Epoch 23/50\n",
            "77/77 [==============================] - 0s 3ms/step - loss: 0.4714 - accuracy: 0.7891 - val_loss: 0.4706 - val_accuracy: 0.7758\n",
            "Epoch 24/50\n",
            "77/77 [==============================] - 0s 3ms/step - loss: 0.4734 - accuracy: 0.7839 - val_loss: 0.4656 - val_accuracy: 0.7818\n",
            "Epoch 25/50\n",
            "77/77 [==============================] - 0s 3ms/step - loss: 0.4713 - accuracy: 0.7878 - val_loss: 0.4655 - val_accuracy: 0.7818\n",
            "Epoch 26/50\n",
            "77/77 [==============================] - 0s 3ms/step - loss: 0.4725 - accuracy: 0.7904 - val_loss: 0.4658 - val_accuracy: 0.7758\n",
            "Epoch 27/50\n",
            "77/77 [==============================] - 0s 3ms/step - loss: 0.4703 - accuracy: 0.7839 - val_loss: 0.4657 - val_accuracy: 0.7727\n",
            "Epoch 28/50\n",
            "77/77 [==============================] - 0s 2ms/step - loss: 0.4701 - accuracy: 0.7878 - val_loss: 0.4643 - val_accuracy: 0.7727\n",
            "Epoch 29/50\n",
            "77/77 [==============================] - 0s 3ms/step - loss: 0.4702 - accuracy: 0.7799 - val_loss: 0.4657 - val_accuracy: 0.7788\n",
            "Epoch 30/50\n",
            "77/77 [==============================] - 0s 3ms/step - loss: 0.4715 - accuracy: 0.7852 - val_loss: 0.4679 - val_accuracy: 0.7818\n",
            "Epoch 31/50\n",
            "77/77 [==============================] - 0s 3ms/step - loss: 0.4720 - accuracy: 0.7799 - val_loss: 0.4667 - val_accuracy: 0.7818\n",
            "Epoch 32/50\n",
            "77/77 [==============================] - 0s 3ms/step - loss: 0.4719 - accuracy: 0.7852 - val_loss: 0.4637 - val_accuracy: 0.7788\n",
            "Epoch 33/50\n",
            "77/77 [==============================] - 0s 3ms/step - loss: 0.4695 - accuracy: 0.7826 - val_loss: 0.4629 - val_accuracy: 0.7727\n",
            "Epoch 34/50\n",
            "77/77 [==============================] - 0s 2ms/step - loss: 0.4694 - accuracy: 0.7917 - val_loss: 0.4631 - val_accuracy: 0.7818\n",
            "Epoch 35/50\n",
            "77/77 [==============================] - 0s 3ms/step - loss: 0.4697 - accuracy: 0.7878 - val_loss: 0.4677 - val_accuracy: 0.7758\n",
            "Epoch 36/50\n",
            "77/77 [==============================] - 0s 3ms/step - loss: 0.4683 - accuracy: 0.7826 - val_loss: 0.4633 - val_accuracy: 0.7758\n",
            "Epoch 37/50\n",
            "77/77 [==============================] - 0s 3ms/step - loss: 0.4689 - accuracy: 0.7852 - val_loss: 0.4640 - val_accuracy: 0.7727\n",
            "Epoch 38/50\n",
            "77/77 [==============================] - 0s 3ms/step - loss: 0.4693 - accuracy: 0.7891 - val_loss: 0.4620 - val_accuracy: 0.7818\n",
            "Epoch 39/50\n",
            "77/77 [==============================] - 0s 3ms/step - loss: 0.4689 - accuracy: 0.7865 - val_loss: 0.4624 - val_accuracy: 0.7818\n",
            "Epoch 40/50\n",
            "77/77 [==============================] - 0s 3ms/step - loss: 0.4708 - accuracy: 0.7852 - val_loss: 0.4615 - val_accuracy: 0.7818\n",
            "Epoch 41/50\n",
            "77/77 [==============================] - 0s 3ms/step - loss: 0.4683 - accuracy: 0.7826 - val_loss: 0.4627 - val_accuracy: 0.7818\n",
            "Epoch 42/50\n",
            "77/77 [==============================] - 0s 3ms/step - loss: 0.4675 - accuracy: 0.7865 - val_loss: 0.4636 - val_accuracy: 0.7788\n",
            "Epoch 43/50\n",
            "77/77 [==============================] - 0s 3ms/step - loss: 0.4680 - accuracy: 0.7878 - val_loss: 0.4616 - val_accuracy: 0.7818\n",
            "Epoch 44/50\n",
            "77/77 [==============================] - 0s 3ms/step - loss: 0.4678 - accuracy: 0.7865 - val_loss: 0.4644 - val_accuracy: 0.7788\n",
            "Epoch 45/50\n",
            "77/77 [==============================] - 0s 3ms/step - loss: 0.4676 - accuracy: 0.7799 - val_loss: 0.4674 - val_accuracy: 0.7758\n",
            "Epoch 46/50\n",
            "77/77 [==============================] - 0s 3ms/step - loss: 0.4687 - accuracy: 0.7760 - val_loss: 0.4701 - val_accuracy: 0.7758\n",
            "Epoch 47/50\n",
            "77/77 [==============================] - 0s 3ms/step - loss: 0.4675 - accuracy: 0.7839 - val_loss: 0.4679 - val_accuracy: 0.7758\n",
            "Epoch 48/50\n",
            "77/77 [==============================] - 0s 3ms/step - loss: 0.4682 - accuracy: 0.7773 - val_loss: 0.4615 - val_accuracy: 0.7818\n",
            "Epoch 49/50\n",
            "77/77 [==============================] - 0s 3ms/step - loss: 0.4677 - accuracy: 0.7878 - val_loss: 0.4657 - val_accuracy: 0.7758\n",
            "Epoch 50/50\n",
            "77/77 [==============================] - 0s 3ms/step - loss: 0.4688 - accuracy: 0.7812 - val_loss: 0.4648 - val_accuracy: 0.7727\n"
          ],
          "name": "stdout"
        }
      ]
    },
    {
      "cell_type": "markdown",
      "metadata": {
        "id": "p5fBT1M4wnu5"
      },
      "source": [
        "#####TUTORIAL_MODEL"
      ]
    },
    {
      "cell_type": "code",
      "metadata": {
        "colab": {
          "base_uri": "https://localhost:8080/"
        },
        "id": "3Donz9PriP1m",
        "outputId": "31d03a06-a2f8-409c-8c63-550c1bb1b157"
      },
      "source": [
        "from sklearn.ensemble import RandomForestClassifier\n",
        "tutorial_model = RandomForestClassifier(n_estimators=100, max_depth=10)\n",
        "\n",
        "# for testing acc\n",
        "tutorial_model.fit(X_train, Y_train)\n",
        "'random forest acc:', round(tutorial_model.score(X_val, Y_val) * 100, 2)"
      ],
      "execution_count": 9,
      "outputs": [
        {
          "output_type": "execute_result",
          "data": {
            "text/plain": [
              "('random forest acc:', 84.24)"
            ]
          },
          "metadata": {
            "tags": []
          },
          "execution_count": 9
        }
      ]
    },
    {
      "cell_type": "markdown",
      "metadata": {
        "id": "6n2nLGa8ZVI-"
      },
      "source": [
        "#####Output"
      ]
    },
    {
      "cell_type": "code",
      "metadata": {
        "id": "2hHNjRxMb3_O"
      },
      "source": [
        "def plot_and_return_cnf_matrix(real_vals, predicted_vals):\n",
        "  cnf_matrix = metrics.confusion_matrix(real_vals, predicted_vals)\n",
        "  metrics.ConfusionMatrixDisplay(confusion_matrix=cnf_matrix, display_labels=[0, 1]).plot()\n",
        "  return cnf_matrix\n",
        "\n",
        "def plot_precision_recall(classifier, X_train, Y_train, X_val, Y_val):\n",
        "  clf = OneVsRestClassifier(classifier)\n",
        "  clf.fit(X_train, Y_train)\n",
        "\n",
        "  Y_score = clf.predict_proba(X_val)\n",
        "\n",
        "  plt.figure()\n",
        "\n",
        "  precision, recall, _ = metrics.precision_recall_curve(Y_val[:, 1], Y_score[:, 1])\n",
        "  average_precision = metrics.average_precision_score(Y_val[:, 1], Y_score[:, 1])\n",
        "  plt.step(recall, precision, where='post')\n",
        "  plt.xlabel('Recall')\n",
        "  plt.ylabel('Precision')\n",
        "  plt.ylim([0.0, 1.05])\n",
        "  plt.xlim([0.0, 1.0])\n",
        "  plt.title(\n",
        "      'Average precision score, micro-averaged over all classes: AP={0:0.2f}'\n",
        "      .format(average_precision))"
      ],
      "execution_count": 145,
      "outputs": []
    },
    {
      "cell_type": "code",
      "metadata": {
        "id": "8VfrpOPFnRGD",
        "colab": {
          "base_uri": "https://localhost:8080/",
          "height": 561
        },
        "outputId": "3e6fafc1-50fd-42dc-8355-ef393eab4ec4"
      },
      "source": [
        "X_test = pd.get_dummies(test_data[features])\n",
        "## NN predictions\n",
        "# output_predictions = (model.predict(X_test) > 0.5).astype(int).T[1]\n",
        "# cnf_matrix = plot_and_return_cnf_matrix(Y_val.T[1].astype(int), (model.predict(X_val) > 0.5).astype(int).T[1])\n",
        "\n",
        "\n",
        "## RandomForestClassifier predictions\n",
        "cnf_matrix = plot_and_return_cnf_matrix(Y_val.T[1].astype(int), tutorial_model.predict(X_val).T[1].astype(int))\n",
        "plot_precision_recall(tutorial_model, X_train, Y_train, X_val, Y_val)\n",
        "\n",
        "tutorial_model.fit(X, Y)\n",
        "tutorial_predictions = tutorial_model.predict(X_test)\n",
        "output_predictions = tutorial_model.predict(X_test).T[1].astype(int)\n",
        "\n",
        "output = pd.DataFrame({'PassengerId': test_data.PassengerId, 'Survived': output_predictions})"
      ],
      "execution_count": 146,
      "outputs": [
        {
          "output_type": "display_data",
          "data": {
            "image/png": "[encoded data removed]",
            "text/plain": [
              "<Figure size 432x288 with 2 Axes>"
            ]
          },
          "metadata": {
            "tags": [],
            "needs_background": "light"
          }
        },
        {
          "output_type": "display_data",
          "data": {
            "image/png": "[encoded data removed]",
            "text/plain": [
              "<Figure size 432x288 with 1 Axes>"
            ]
          },
          "metadata": {
            "tags": [],
            "needs_background": "light"
          }
        }
      ]
    },
    {
      "cell_type": "code",
      "metadata": {
        "id": "nCaLbxKonTWK"
      },
      "source": [
        "OUTPUTH_FILE_PATH = '/content/drive/MyDrive/kaggle/titanic/my_submission.csv'\n",
        "output.to_csv(OUTPUTH_FILE_PATH, index=False)"
      ],
      "execution_count": null,
      "outputs": []
    }
  ]
}
